{
 "cells": [
  {
   "cell_type": "code",
   "execution_count": 1,
   "id": "3c12da6d",
   "metadata": {},
   "outputs": [
    {
     "name": "stdout",
     "output_type": "stream",
     "text": [
      "Requirement already satisfied: antlr4-tools in c:\\users\\jerem\\anaconda3\\lib\\site-packages (0.2.1)\n",
      "Requirement already satisfied: install-jdk in c:\\users\\jerem\\anaconda3\\lib\\site-packages (from antlr4-tools) (1.1.0)\n",
      "Requirement already satisfied: antlr4-python3-runtime in c:\\users\\jerem\\anaconda3\\lib\\site-packages (4.12.0)\n",
      "Requirement already satisfied: pddlpy in c:\\users\\jerem\\anaconda3\\lib\\site-packages (0.3.4)\n",
      "Requirement already satisfied: antlr4-python3-runtime==4.12.0 in c:\\users\\jerem\\anaconda3\\lib\\site-packages (from pddlpy) (4.12.0)\n"
     ]
    }
   ],
   "source": [
    "!pip install antlr4-tools\n",
    "!pip install antlr4-python3-runtime\n",
    "!pip install pddlpy"
   ]
  },
  {
   "cell_type": "code",
   "execution_count": 1,
   "id": "ba4d512b",
   "metadata": {},
   "outputs": [
    {
     "name": "stdout",
     "output_type": "stream",
     "text": [
      "ANTLR Parser Generator  Version 4.13.1\n",
      " -o ___              specify output directory where all output is generated\n",
      " -lib ___            specify location of grammars, tokens files\n",
      " -atn                generate rule augmented transition network diagrams\n",
      " -encoding ___       specify grammar file encoding; e.g., euc-jp\n",
      " -message-format ___ specify output style for messages in antlr, gnu, vs2005\n",
      " -long-messages      show exception details when available for errors and warnings\n",
      " -listener           generate parse tree listener (default)\n",
      " -no-listener        don't generate parse tree listener\n",
      " -visitor            generate parse tree visitor\n",
      " -no-visitor         don't generate parse tree visitor (default)\n",
      " -package ___        specify a package/namespace for the generated code\n",
      " -depend             generate file dependencies\n",
      " -D<option>=value    set/override a grammar-level option\n",
      " -Werror             treat warnings as errors\n",
      " -XdbgST             launch StringTemplate visualizer on generated code\n",
      " -XdbgSTWait         wait for STViz to close before continuing\n",
      " -Xforce-atn         use the ATN simulator for all predictions\n",
      " -Xlog               dump lots of logging info to antlr-timestamp.log\n",
      " -Xexact-output-dir  all output goes into -o dir regardless of paths/package\n"
     ]
    }
   ],
   "source": [
    "!antlr4"
   ]
  },
  {
   "cell_type": "code",
   "execution_count": 37,
   "id": "0e666c11",
   "metadata": {},
   "outputs": [],
   "source": [
    "import sys\n",
    "from antlr4 import *\n",
    "from Python3Lexer import Python3Lexer\n",
    "from Python3LexerBase import Python3LexerBase\n",
    "from Python3Parser import Python3Parser\n",
    "from Python3ParserBase import Python3ParserBase\n",
    "import pandas as pd\n",
    "from sklearn.model_selection import train_test_split\n",
    "from sklearn.feature_extraction.text import TfidfVectorizer\n",
    "from sklearn.svm import SVC\n",
    "from sklearn.metrics import accuracy_score, classification_report\n",
    "from sklearn.naive_bayes import MultinomialNB\n",
    "from sklearn.model_selection import train_test_split\n",
    "import time\n",
    "from sklearn.feature_extraction.text import CountVectorizer\n",
    "from sklearn.feature_extraction.text import TfidfTransformer\n",
    "from sklearn.model_selection import KFold\n",
    "from sklearn.naive_bayes import MultinomialNB\n",
    "import time\n",
    "from sklearn.model_selection import KFold\n",
    "import pandas as pd\n",
    "import sklearn.model_selection as ms\n",
    "import matplotlib.pyplot as plt\n",
    "import sklearn.linear_model as lm\n",
    "import numpy as np\n",
    "import sklearn.metrics as met\n",
    "import sklearn.linear_model as ls\n",
    "import sklearn.tree as tree\n",
    "import sklearn.naive_bayes as nb"
   ]
  },
  {
   "cell_type": "code",
   "execution_count": 30,
   "id": "e73c8403",
   "metadata": {},
   "outputs": [
    {
     "name": "stdout",
     "output_type": "stream",
     "text": [
      "ANTLR runtime and generated code versions disagree: 4.12.0!=4.13.1\n",
      "[@-1,0:2='for',<22>,1:0]\n",
      "[@-1,4:4='i',<45>,1:4]\n",
      "[@-1,6:7='in',<27>,1:6]\n",
      "[@-1,9:13='range',<45>,1:9]\n",
      "[@-1,14:14='(',<57>,1:14]\n",
      "[@-1,15:16='10',<4>,1:15]\n",
      "[@-1,17:17=')',<58>,1:17]\n",
      "[@-1,18:18=':',<60>,1:18]\n",
      "[@-1,23:23=' ',<44>,2:4]\n",
      "[@-1,20:23='    ',<1>,2:4]\n",
      "[@-1,24:28='print',<45>,2:4]\n",
      "[@-1,29:29='(',<57>,2:9]\n",
      "[@-1,30:44='\"Hello, World!\"',<3>,2:10]\n",
      "[@-1,45:45=')',<58>,2:25]\n",
      "[@-1,45:45=')',<44>,2:26]\n",
      "[@-1,45:45=')',<2>,2:26]\n"
     ]
    }
   ],
   "source": [
    "inputstream = FileStream(\"untitled.py\") \n",
    "lexer = Python3Lexer(inputstream)\n",
    "lexer.reset()\n",
    "tokens = lexer.getAllTokens()\n",
    "\n",
    "for token in tokens:\n",
    "    print(token)"
   ]
  },
  {
   "cell_type": "code",
   "execution_count": 31,
   "id": "f613d9ff",
   "metadata": {},
   "outputs": [
    {
     "name": "stdout",
     "output_type": "stream",
     "text": [
      " FOR NAME IN NAME OPEN_PAREN NUMBER CLOSE_PAREN COLON NEWLINE INDENT NAME OPEN_PAREN STRING CLOSE_PAREN NEWLINE DEDENT\n"
     ]
    }
   ],
   "source": [
    "import csv\n",
    "\n",
    "sentence = ''\n",
    "for token in tokens:\n",
    "    sentence = sentence + ' ' +lexer.symbolicNames[token.type]\n",
    "print(sentence)\n",
    "\n",
    "with open('output.csv', mode='w') as file:\n",
    "    writer = csv.writer(file)\n",
    "    writer.writerow([sentence])"
   ]
  },
  {
   "cell_type": "code",
   "execution_count": 26,
   "id": "1fcec97f",
   "metadata": {},
   "outputs": [
    {
     "data": {
      "text/html": [
       "<div>\n",
       "<style scoped>\n",
       "    .dataframe tbody tr th:only-of-type {\n",
       "        vertical-align: middle;\n",
       "    }\n",
       "\n",
       "    .dataframe tbody tr th {\n",
       "        vertical-align: top;\n",
       "    }\n",
       "\n",
       "    .dataframe thead th {\n",
       "        text-align: right;\n",
       "    }\n",
       "</style>\n",
       "<table border=\"1\" class=\"dataframe\">\n",
       "  <thead>\n",
       "    <tr style=\"text-align: right;\">\n",
       "      <th></th>\n",
       "      <th>source</th>\n",
       "      <th>jumlah_var</th>\n",
       "      <th>skor</th>\n",
       "    </tr>\n",
       "  </thead>\n",
       "  <tbody>\n",
       "    <tr>\n",
       "      <th>0</th>\n",
       "      <td>break</td>\n",
       "      <td>0</td>\n",
       "      <td>0.0</td>\n",
       "    </tr>\n",
       "    <tr>\n",
       "      <th>1</th>\n",
       "      <td>pass  # print 'exchanged'</td>\n",
       "      <td>0</td>\n",
       "      <td>0.0</td>\n",
       "    </tr>\n",
       "    <tr>\n",
       "      <th>2</th>\n",
       "      <td>break</td>\n",
       "      <td>0</td>\n",
       "      <td>0.0</td>\n",
       "    </tr>\n",
       "    <tr>\n",
       "      <th>3</th>\n",
       "      <td>else:</td>\n",
       "      <td>0</td>\n",
       "      <td>0.0</td>\n",
       "    </tr>\n",
       "    <tr>\n",
       "      <th>4</th>\n",
       "      <td>flag_exchange, curr_subset = s...</td>\n",
       "      <td>6</td>\n",
       "      <td>0.6</td>\n",
       "    </tr>\n",
       "    <tr>\n",
       "      <th>...</th>\n",
       "      <td>...</td>\n",
       "      <td>...</td>\n",
       "      <td>...</td>\n",
       "    </tr>\n",
       "    <tr>\n",
       "      <th>287</th>\n",
       "      <td>import math</td>\n",
       "      <td>1</td>\n",
       "      <td>0.1</td>\n",
       "    </tr>\n",
       "    <tr>\n",
       "      <th>288</th>\n",
       "      <td>import numpy as np</td>\n",
       "      <td>1</td>\n",
       "      <td>0.1</td>\n",
       "    </tr>\n",
       "    <tr>\n",
       "      <th>289</th>\n",
       "      <td>import numpy.linalg as LA</td>\n",
       "      <td>1</td>\n",
       "      <td>0.1</td>\n",
       "    </tr>\n",
       "    <tr>\n",
       "      <th>290</th>\n",
       "      <td>import random</td>\n",
       "      <td>1</td>\n",
       "      <td>0.1</td>\n",
       "    </tr>\n",
       "    <tr>\n",
       "      <th>291</th>\n",
       "      <td>import time</td>\n",
       "      <td>1</td>\n",
       "      <td>0.1</td>\n",
       "    </tr>\n",
       "  </tbody>\n",
       "</table>\n",
       "<p>292 rows × 3 columns</p>\n",
       "</div>"
      ],
      "text/plain": [
       "                                                source  jumlah_var  skor\n",
       "0                                                break           0   0.0\n",
       "1                            pass  # print 'exchanged'           0   0.0\n",
       "2                                                break           0   0.0\n",
       "3                                                else:           0   0.0\n",
       "4                    flag_exchange, curr_subset = s...           6   0.6\n",
       "..                                                 ...         ...   ...\n",
       "287                                        import math           1   0.1\n",
       "288                                 import numpy as np           1   0.1\n",
       "289                          import numpy.linalg as LA           1   0.1\n",
       "290                                      import random           1   0.1\n",
       "291                                        import time           1   0.1\n",
       "\n",
       "[292 rows x 3 columns]"
      ]
     },
     "execution_count": 26,
     "metadata": {},
     "output_type": "execute_result"
    }
   ],
   "source": [
    "import pandas as pd\n",
    "\n",
    "data = pd.read_csv('dataframe.csv')\n",
    "data"
   ]
  },
  {
   "cell_type": "code",
   "execution_count": 27,
   "id": "e0090d9c",
   "metadata": {},
   "outputs": [
    {
     "name": "stdout",
     "output_type": "stream",
     "text": [
      "ANTLR runtime and generated code versions disagree: 4.12.0!=4.13.1\n",
      "ANTLR runtime and generated code versions disagree: 4.12.0!=4.13.1\n",
      "ANTLR runtime and generated code versions disagree: 4.12.0!=4.13.1\n",
      "ANTLR runtime and generated code versions disagree: 4.12.0!=4.13.1\n",
      "ANTLR runtime and generated code versions disagree: 4.12.0!=4.13.1\n",
      "ANTLR runtime and generated code versions disagree: 4.12.0!=4.13.1\n",
      "ANTLR runtime and generated code versions disagree: 4.12.0!=4.13.1\n",
      "ANTLR runtime and generated code versions disagree: 4.12.0!=4.13.1\n",
      "ANTLR runtime and generated code versions disagree: 4.12.0!=4.13.1\n",
      "ANTLR runtime and generated code versions disagree: 4.12.0!=4.13.1\n",
      "ANTLR runtime and generated code versions disagree: 4.12.0!=4.13.1\n",
      "ANTLR runtime and generated code versions disagree: 4.12.0!=4.13.1\n",
      "ANTLR runtime and generated code versions disagree: 4.12.0!=4.13.1\n",
      "ANTLR runtime and generated code versions disagree: 4.12.0!=4.13.1\n",
      "ANTLR runtime and generated code versions disagree: 4.12.0!=4.13.1\n",
      "ANTLR runtime and generated code versions disagree: 4.12.0!=4.13.1\n",
      "ANTLR runtime and generated code versions disagree: 4.12.0!=4.13.1\n",
      "ANTLR runtime and generated code versions disagree: 4.12.0!=4.13.1\n",
      "ANTLR runtime and generated code versions disagree: 4.12.0!=4.13.1\n",
      "ANTLR runtime and generated code versions disagree: 4.12.0!=4.13.1\n",
      "ANTLR runtime and generated code versions disagree: 4.12.0!=4.13.1\n",
      "ANTLR runtime and generated code versions disagree: 4.12.0!=4.13.1\n",
      "ANTLR runtime and generated code versions disagree: 4.12.0!=4.13.1\n",
      "ANTLR runtime and generated code versions disagree: 4.12.0!=4.13.1\n",
      "ANTLR runtime and generated code versions disagree: 4.12.0!=4.13.1\n",
      "ANTLR runtime and generated code versions disagree: 4.12.0!=4.13.1\n",
      "ANTLR runtime and generated code versions disagree: 4.12.0!=4.13.1\n",
      "ANTLR runtime and generated code versions disagree: 4.12.0!=4.13.1\n",
      "ANTLR runtime and generated code versions disagree: 4.12.0!=4.13.1\n",
      "ANTLR runtime and generated code versions disagree: 4.12.0!=4.13.1\n",
      "ANTLR runtime and generated code versions disagree: 4.12.0!=4.13.1\n",
      "ANTLR runtime and generated code versions disagree: 4.12.0!=4.13.1\n",
      "ANTLR runtime and generated code versions disagree: 4.12.0!=4.13.1\n",
      "ANTLR runtime and generated code versions disagree: 4.12.0!=4.13.1\n",
      "ANTLR runtime and generated code versions disagree: 4.12.0!=4.13.1\n",
      "ANTLR runtime and generated code versions disagree: 4.12.0!=4.13.1\n",
      "ANTLR runtime and generated code versions disagree: 4.12.0!=4.13.1\n",
      "ANTLR runtime and generated code versions disagree: 4.12.0!=4.13.1\n",
      "ANTLR runtime and generated code versions disagree: 4.12.0!=4.13.1\n",
      "ANTLR runtime and generated code versions disagree: 4.12.0!=4.13.1\n",
      "ANTLR runtime and generated code versions disagree: 4.12.0!=4.13.1\n",
      "ANTLR runtime and generated code versions disagree: 4.12.0!=4.13.1\n",
      "ANTLR runtime and generated code versions disagree: 4.12.0!=4.13.1\n",
      "ANTLR runtime and generated code versions disagree: 4.12.0!=4.13.1\n",
      "ANTLR runtime and generated code versions disagree: 4.12.0!=4.13.1\n",
      "ANTLR runtime and generated code versions disagree: 4.12.0!=4.13.1\n",
      "ANTLR runtime and generated code versions disagree: 4.12.0!=4.13.1\n",
      "ANTLR runtime and generated code versions disagree: 4.12.0!=4.13.1\n",
      "ANTLR runtime and generated code versions disagree: 4.12.0!=4.13.1\n",
      "ANTLR runtime and generated code versions disagree: 4.12.0!=4.13.1\n",
      "ANTLR runtime and generated code versions disagree: 4.12.0!=4.13.1\n",
      "ANTLR runtime and generated code versions disagree: 4.12.0!=4.13.1\n",
      "ANTLR runtime and generated code versions disagree: 4.12.0!=4.13.1\n",
      "ANTLR runtime and generated code versions disagree: 4.12.0!=4.13.1\n",
      "ANTLR runtime and generated code versions disagree: 4.12.0!=4.13.1\n",
      "ANTLR runtime and generated code versions disagree: 4.12.0!=4.13.1\n",
      "ANTLR runtime and generated code versions disagree: 4.12.0!=4.13.1\n",
      "ANTLR runtime and generated code versions disagree: 4.12.0!=4.13.1\n",
      "ANTLR runtime and generated code versions disagree: 4.12.0!=4.13.1\n",
      "ANTLR runtime and generated code versions disagree: 4.12.0!=4.13.1\n",
      "ANTLR runtime and generated code versions disagree: 4.12.0!=4.13.1\n",
      "ANTLR runtime and generated code versions disagree: 4.12.0!=4.13.1\n",
      "ANTLR runtime and generated code versions disagree: 4.12.0!=4.13.1\n",
      "ANTLR runtime and generated code versions disagree: 4.12.0!=4.13.1\n",
      "ANTLR runtime and generated code versions disagree: 4.12.0!=4.13.1\n",
      "ANTLR runtime and generated code versions disagree: 4.12.0!=4.13.1\n",
      "ANTLR runtime and generated code versions disagree: 4.12.0!=4.13.1\n",
      "ANTLR runtime and generated code versions disagree: 4.12.0!=4.13.1\n",
      "ANTLR runtime and generated code versions disagree: 4.12.0!=4.13.1\n",
      "ANTLR runtime and generated code versions disagree: 4.12.0!=4.13.1\n",
      "ANTLR runtime and generated code versions disagree: 4.12.0!=4.13.1\n",
      "ANTLR runtime and generated code versions disagree: 4.12.0!=4.13.1\n",
      "ANTLR runtime and generated code versions disagree: 4.12.0!=4.13.1\n",
      "ANTLR runtime and generated code versions disagree: 4.12.0!=4.13.1\n",
      "ANTLR runtime and generated code versions disagree: 4.12.0!=4.13.1\n",
      "ANTLR runtime and generated code versions disagree: 4.12.0!=4.13.1\n",
      "ANTLR runtime and generated code versions disagree: 4.12.0!=4.13.1\n",
      "ANTLR runtime and generated code versions disagree: 4.12.0!=4.13.1\n",
      "ANTLR runtime and generated code versions disagree: 4.12.0!=4.13.1\n",
      "ANTLR runtime and generated code versions disagree: 4.12.0!=4.13.1\n",
      "ANTLR runtime and generated code versions disagree: 4.12.0!=4.13.1\n",
      "ANTLR runtime and generated code versions disagree: 4.12.0!=4.13.1\n",
      "ANTLR runtime and generated code versions disagree: 4.12.0!=4.13.1\n",
      "ANTLR runtime and generated code versions disagree: 4.12.0!=4.13.1\n",
      "ANTLR runtime and generated code versions disagree: 4.12.0!=4.13.1\n",
      "ANTLR runtime and generated code versions disagree: 4.12.0!=4.13.1\n",
      "ANTLR runtime and generated code versions disagree: 4.12.0!=4.13.1\n",
      "ANTLR runtime and generated code versions disagree: 4.12.0!=4.13.1\n",
      "ANTLR runtime and generated code versions disagree: 4.12.0!=4.13.1\n",
      "ANTLR runtime and generated code versions disagree: 4.12.0!=4.13.1\n",
      "ANTLR runtime and generated code versions disagree: 4.12.0!=4.13.1\n",
      "ANTLR runtime and generated code versions disagree: 4.12.0!=4.13.1\n",
      "ANTLR runtime and generated code versions disagree: 4.12.0!=4.13.1\n",
      "ANTLR runtime and generated code versions disagree: 4.12.0!=4.13.1\n",
      "ANTLR runtime and generated code versions disagree: 4.12.0!=4.13.1\n",
      "ANTLR runtime and generated code versions disagree: 4.12.0!=4.13.1\n",
      "ANTLR runtime and generated code versions disagree: 4.12.0!=4.13.1\n",
      "ANTLR runtime and generated code versions disagree: 4.12.0!=4.13.1\n",
      "ANTLR runtime and generated code versions disagree: 4.12.0!=4.13.1\n",
      "ANTLR runtime and generated code versions disagree: 4.12.0!=4.13.1\n",
      "ANTLR runtime and generated code versions disagree: 4.12.0!=4.13.1\n",
      "ANTLR runtime and generated code versions disagree: 4.12.0!=4.13.1\n",
      "ANTLR runtime and generated code versions disagree: 4.12.0!=4.13.1\n",
      "ANTLR runtime and generated code versions disagree: 4.12.0!=4.13.1\n",
      "ANTLR runtime and generated code versions disagree: 4.12.0!=4.13.1\n",
      "ANTLR runtime and generated code versions disagree: 4.12.0!=4.13.1\n",
      "ANTLR runtime and generated code versions disagree: 4.12.0!=4.13.1\n",
      "ANTLR runtime and generated code versions disagree: 4.12.0!=4.13.1\n",
      "ANTLR runtime and generated code versions disagree: 4.12.0!=4.13.1\n",
      "ANTLR runtime and generated code versions disagree: 4.12.0!=4.13.1\n",
      "ANTLR runtime and generated code versions disagree: 4.12.0!=4.13.1\n",
      "ANTLR runtime and generated code versions disagree: 4.12.0!=4.13.1\n",
      "ANTLR runtime and generated code versions disagree: 4.12.0!=4.13.1\n",
      "ANTLR runtime and generated code versions disagree: 4.12.0!=4.13.1\n",
      "ANTLR runtime and generated code versions disagree: 4.12.0!=4.13.1\n",
      "ANTLR runtime and generated code versions disagree: 4.12.0!=4.13.1\n",
      "ANTLR runtime and generated code versions disagree: 4.12.0!=4.13.1\n",
      "ANTLR runtime and generated code versions disagree: 4.12.0!=4.13.1\n",
      "ANTLR runtime and generated code versions disagree: 4.12.0!=4.13.1\n",
      "ANTLR runtime and generated code versions disagree: 4.12.0!=4.13.1\n",
      "ANTLR runtime and generated code versions disagree: 4.12.0!=4.13.1\n",
      "ANTLR runtime and generated code versions disagree: 4.12.0!=4.13.1\n",
      "ANTLR runtime and generated code versions disagree: 4.12.0!=4.13.1\n",
      "ANTLR runtime and generated code versions disagree: 4.12.0!=4.13.1\n",
      "ANTLR runtime and generated code versions disagree: 4.12.0!=4.13.1\n",
      "ANTLR runtime and generated code versions disagree: 4.12.0!=4.13.1\n",
      "ANTLR runtime and generated code versions disagree: 4.12.0!=4.13.1\n",
      "ANTLR runtime and generated code versions disagree: 4.12.0!=4.13.1\n",
      "ANTLR runtime and generated code versions disagree: 4.12.0!=4.13.1\n",
      "ANTLR runtime and generated code versions disagree: 4.12.0!=4.13.1\n",
      "ANTLR runtime and generated code versions disagree: 4.12.0!=4.13.1\n",
      "ANTLR runtime and generated code versions disagree: 4.12.0!=4.13.1\n",
      "ANTLR runtime and generated code versions disagree: 4.12.0!=4.13.1\n",
      "ANTLR runtime and generated code versions disagree: 4.12.0!=4.13.1\n",
      "ANTLR runtime and generated code versions disagree: 4.12.0!=4.13.1\n"
     ]
    },
    {
     "name": "stdout",
     "output_type": "stream",
     "text": [
      "ANTLR runtime and generated code versions disagree: 4.12.0!=4.13.1\n",
      "ANTLR runtime and generated code versions disagree: 4.12.0!=4.13.1\n",
      "ANTLR runtime and generated code versions disagree: 4.12.0!=4.13.1\n",
      "ANTLR runtime and generated code versions disagree: 4.12.0!=4.13.1\n",
      "ANTLR runtime and generated code versions disagree: 4.12.0!=4.13.1\n",
      "ANTLR runtime and generated code versions disagree: 4.12.0!=4.13.1\n",
      "ANTLR runtime and generated code versions disagree: 4.12.0!=4.13.1\n",
      "ANTLR runtime and generated code versions disagree: 4.12.0!=4.13.1\n",
      "ANTLR runtime and generated code versions disagree: 4.12.0!=4.13.1\n",
      "ANTLR runtime and generated code versions disagree: 4.12.0!=4.13.1\n",
      "ANTLR runtime and generated code versions disagree: 4.12.0!=4.13.1\n",
      "ANTLR runtime and generated code versions disagree: 4.12.0!=4.13.1\n",
      "ANTLR runtime and generated code versions disagree: 4.12.0!=4.13.1\n",
      "ANTLR runtime and generated code versions disagree: 4.12.0!=4.13.1\n",
      "ANTLR runtime and generated code versions disagree: 4.12.0!=4.13.1\n",
      "ANTLR runtime and generated code versions disagree: 4.12.0!=4.13.1\n",
      "ANTLR runtime and generated code versions disagree: 4.12.0!=4.13.1\n",
      "ANTLR runtime and generated code versions disagree: 4.12.0!=4.13.1\n",
      "ANTLR runtime and generated code versions disagree: 4.12.0!=4.13.1\n",
      "ANTLR runtime and generated code versions disagree: 4.12.0!=4.13.1\n",
      "ANTLR runtime and generated code versions disagree: 4.12.0!=4.13.1\n",
      "ANTLR runtime and generated code versions disagree: 4.12.0!=4.13.1\n",
      "ANTLR runtime and generated code versions disagree: 4.12.0!=4.13.1\n",
      "ANTLR runtime and generated code versions disagree: 4.12.0!=4.13.1\n",
      "ANTLR runtime and generated code versions disagree: 4.12.0!=4.13.1\n",
      "ANTLR runtime and generated code versions disagree: 4.12.0!=4.13.1\n",
      "ANTLR runtime and generated code versions disagree: 4.12.0!=4.13.1\n",
      "ANTLR runtime and generated code versions disagree: 4.12.0!=4.13.1\n",
      "ANTLR runtime and generated code versions disagree: 4.12.0!=4.13.1\n",
      "ANTLR runtime and generated code versions disagree: 4.12.0!=4.13.1\n",
      "ANTLR runtime and generated code versions disagree: 4.12.0!=4.13.1\n",
      "ANTLR runtime and generated code versions disagree: 4.12.0!=4.13.1\n",
      "ANTLR runtime and generated code versions disagree: 4.12.0!=4.13.1\n",
      "ANTLR runtime and generated code versions disagree: 4.12.0!=4.13.1\n",
      "ANTLR runtime and generated code versions disagree: 4.12.0!=4.13.1\n",
      "ANTLR runtime and generated code versions disagree: 4.12.0!=4.13.1\n",
      "ANTLR runtime and generated code versions disagree: 4.12.0!=4.13.1\n",
      "ANTLR runtime and generated code versions disagree: 4.12.0!=4.13.1\n",
      "ANTLR runtime and generated code versions disagree: 4.12.0!=4.13.1\n",
      "ANTLR runtime and generated code versions disagree: 4.12.0!=4.13.1\n",
      "ANTLR runtime and generated code versions disagree: 4.12.0!=4.13.1\n",
      "ANTLR runtime and generated code versions disagree: 4.12.0!=4.13.1\n",
      "ANTLR runtime and generated code versions disagree: 4.12.0!=4.13.1\n",
      "ANTLR runtime and generated code versions disagree: 4.12.0!=4.13.1\n",
      "ANTLR runtime and generated code versions disagree: 4.12.0!=4.13.1\n",
      "ANTLR runtime and generated code versions disagree: 4.12.0!=4.13.1\n",
      "ANTLR runtime and generated code versions disagree: 4.12.0!=4.13.1\n",
      "ANTLR runtime and generated code versions disagree: 4.12.0!=4.13.1\n",
      "ANTLR runtime and generated code versions disagree: 4.12.0!=4.13.1\n",
      "ANTLR runtime and generated code versions disagree: 4.12.0!=4.13.1\n",
      "ANTLR runtime and generated code versions disagree: 4.12.0!=4.13.1\n",
      "ANTLR runtime and generated code versions disagree: 4.12.0!=4.13.1\n",
      "ANTLR runtime and generated code versions disagree: 4.12.0!=4.13.1\n",
      "ANTLR runtime and generated code versions disagree: 4.12.0!=4.13.1\n",
      "ANTLR runtime and generated code versions disagree: 4.12.0!=4.13.1\n",
      "ANTLR runtime and generated code versions disagree: 4.12.0!=4.13.1\n",
      "ANTLR runtime and generated code versions disagree: 4.12.0!=4.13.1\n",
      "ANTLR runtime and generated code versions disagree: 4.12.0!=4.13.1\n",
      "ANTLR runtime and generated code versions disagree: 4.12.0!=4.13.1\n",
      "ANTLR runtime and generated code versions disagree: 4.12.0!=4.13.1\n",
      "ANTLR runtime and generated code versions disagree: 4.12.0!=4.13.1\n",
      "ANTLR runtime and generated code versions disagree: 4.12.0!=4.13.1\n",
      "ANTLR runtime and generated code versions disagree: 4.12.0!=4.13.1\n",
      "ANTLR runtime and generated code versions disagree: 4.12.0!=4.13.1\n",
      "ANTLR runtime and generated code versions disagree: 4.12.0!=4.13.1\n",
      "ANTLR runtime and generated code versions disagree: 4.12.0!=4.13.1\n",
      "ANTLR runtime and generated code versions disagree: 4.12.0!=4.13.1\n",
      "ANTLR runtime and generated code versions disagree: 4.12.0!=4.13.1\n",
      "ANTLR runtime and generated code versions disagree: 4.12.0!=4.13.1\n",
      "ANTLR runtime and generated code versions disagree: 4.12.0!=4.13.1\n",
      "ANTLR runtime and generated code versions disagree: 4.12.0!=4.13.1\n",
      "ANTLR runtime and generated code versions disagree: 4.12.0!=4.13.1\n",
      "ANTLR runtime and generated code versions disagree: 4.12.0!=4.13.1\n",
      "ANTLR runtime and generated code versions disagree: 4.12.0!=4.13.1\n",
      "ANTLR runtime and generated code versions disagree: 4.12.0!=4.13.1\n",
      "ANTLR runtime and generated code versions disagree: 4.12.0!=4.13.1\n",
      "ANTLR runtime and generated code versions disagree: 4.12.0!=4.13.1\n",
      "ANTLR runtime and generated code versions disagree: 4.12.0!=4.13.1\n",
      "ANTLR runtime and generated code versions disagree: 4.12.0!=4.13.1\n",
      "ANTLR runtime and generated code versions disagree: 4.12.0!=4.13.1\n",
      "ANTLR runtime and generated code versions disagree: 4.12.0!=4.13.1\n",
      "ANTLR runtime and generated code versions disagree: 4.12.0!=4.13.1\n",
      "ANTLR runtime and generated code versions disagree: 4.12.0!=4.13.1\n",
      "ANTLR runtime and generated code versions disagree: 4.12.0!=4.13.1\n",
      "ANTLR runtime and generated code versions disagree: 4.12.0!=4.13.1\n",
      "ANTLR runtime and generated code versions disagree: 4.12.0!=4.13.1\n",
      "ANTLR runtime and generated code versions disagree: 4.12.0!=4.13.1\n",
      "ANTLR runtime and generated code versions disagree: 4.12.0!=4.13.1\n",
      "ANTLR runtime and generated code versions disagree: 4.12.0!=4.13.1\n",
      "ANTLR runtime and generated code versions disagree: 4.12.0!=4.13.1\n",
      "ANTLR runtime and generated code versions disagree: 4.12.0!=4.13.1\n",
      "ANTLR runtime and generated code versions disagree: 4.12.0!=4.13.1\n",
      "ANTLR runtime and generated code versions disagree: 4.12.0!=4.13.1\n",
      "ANTLR runtime and generated code versions disagree: 4.12.0!=4.13.1\n",
      "ANTLR runtime and generated code versions disagree: 4.12.0!=4.13.1\n",
      "ANTLR runtime and generated code versions disagree: 4.12.0!=4.13.1\n",
      "ANTLR runtime and generated code versions disagree: 4.12.0!=4.13.1\n",
      "ANTLR runtime and generated code versions disagree: 4.12.0!=4.13.1\n",
      "ANTLR runtime and generated code versions disagree: 4.12.0!=4.13.1\n",
      "ANTLR runtime and generated code versions disagree: 4.12.0!=4.13.1\n",
      "ANTLR runtime and generated code versions disagree: 4.12.0!=4.13.1\n",
      "ANTLR runtime and generated code versions disagree: 4.12.0!=4.13.1\n",
      "ANTLR runtime and generated code versions disagree: 4.12.0!=4.13.1\n",
      "ANTLR runtime and generated code versions disagree: 4.12.0!=4.13.1\n",
      "ANTLR runtime and generated code versions disagree: 4.12.0!=4.13.1\n",
      "ANTLR runtime and generated code versions disagree: 4.12.0!=4.13.1\n",
      "ANTLR runtime and generated code versions disagree: 4.12.0!=4.13.1\n",
      "ANTLR runtime and generated code versions disagree: 4.12.0!=4.13.1\n",
      "ANTLR runtime and generated code versions disagree: 4.12.0!=4.13.1\n",
      "ANTLR runtime and generated code versions disagree: 4.12.0!=4.13.1\n",
      "ANTLR runtime and generated code versions disagree: 4.12.0!=4.13.1\n",
      "ANTLR runtime and generated code versions disagree: 4.12.0!=4.13.1\n",
      "ANTLR runtime and generated code versions disagree: 4.12.0!=4.13.1\n",
      "ANTLR runtime and generated code versions disagree: 4.12.0!=4.13.1\n",
      "ANTLR runtime and generated code versions disagree: 4.12.0!=4.13.1\n",
      "ANTLR runtime and generated code versions disagree: 4.12.0!=4.13.1\n",
      "ANTLR runtime and generated code versions disagree: 4.12.0!=4.13.1\n",
      "ANTLR runtime and generated code versions disagree: 4.12.0!=4.13.1\n",
      "ANTLR runtime and generated code versions disagree: 4.12.0!=4.13.1\n",
      "ANTLR runtime and generated code versions disagree: 4.12.0!=4.13.1\n",
      "ANTLR runtime and generated code versions disagree: 4.12.0!=4.13.1\n",
      "ANTLR runtime and generated code versions disagree: 4.12.0!=4.13.1\n",
      "ANTLR runtime and generated code versions disagree: 4.12.0!=4.13.1\n",
      "ANTLR runtime and generated code versions disagree: 4.12.0!=4.13.1\n"
     ]
    },
    {
     "name": "stdout",
     "output_type": "stream",
     "text": [
      "ANTLR runtime and generated code versions disagree: 4.12.0!=4.13.1\n",
      "ANTLR runtime and generated code versions disagree: 4.12.0!=4.13.1\n",
      "ANTLR runtime and generated code versions disagree: 4.12.0!=4.13.1\n",
      "ANTLR runtime and generated code versions disagree: 4.12.0!=4.13.1\n",
      "ANTLR runtime and generated code versions disagree: 4.12.0!=4.13.1\n",
      "ANTLR runtime and generated code versions disagree: 4.12.0!=4.13.1\n",
      "ANTLR runtime and generated code versions disagree: 4.12.0!=4.13.1\n",
      "ANTLR runtime and generated code versions disagree: 4.12.0!=4.13.1\n",
      "ANTLR runtime and generated code versions disagree: 4.12.0!=4.13.1\n",
      "ANTLR runtime and generated code versions disagree: 4.12.0!=4.13.1\n",
      "ANTLR runtime and generated code versions disagree: 4.12.0!=4.13.1\n",
      "ANTLR runtime and generated code versions disagree: 4.12.0!=4.13.1\n",
      "ANTLR runtime and generated code versions disagree: 4.12.0!=4.13.1\n",
      "ANTLR runtime and generated code versions disagree: 4.12.0!=4.13.1\n",
      "ANTLR runtime and generated code versions disagree: 4.12.0!=4.13.1\n",
      "ANTLR runtime and generated code versions disagree: 4.12.0!=4.13.1\n",
      "ANTLR runtime and generated code versions disagree: 4.12.0!=4.13.1\n",
      "ANTLR runtime and generated code versions disagree: 4.12.0!=4.13.1\n",
      "ANTLR runtime and generated code versions disagree: 4.12.0!=4.13.1\n",
      "ANTLR runtime and generated code versions disagree: 4.12.0!=4.13.1\n",
      "ANTLR runtime and generated code versions disagree: 4.12.0!=4.13.1\n",
      "ANTLR runtime and generated code versions disagree: 4.12.0!=4.13.1\n",
      "ANTLR runtime and generated code versions disagree: 4.12.0!=4.13.1\n",
      "ANTLR runtime and generated code versions disagree: 4.12.0!=4.13.1\n",
      "ANTLR runtime and generated code versions disagree: 4.12.0!=4.13.1\n",
      "ANTLR runtime and generated code versions disagree: 4.12.0!=4.13.1\n",
      "ANTLR runtime and generated code versions disagree: 4.12.0!=4.13.1\n",
      "ANTLR runtime and generated code versions disagree: 4.12.0!=4.13.1\n",
      "ANTLR runtime and generated code versions disagree: 4.12.0!=4.13.1\n",
      "ANTLR runtime and generated code versions disagree: 4.12.0!=4.13.1\n",
      "ANTLR runtime and generated code versions disagree: 4.12.0!=4.13.1\n",
      "ANTLR runtime and generated code versions disagree: 4.12.0!=4.13.1\n",
      "ANTLR runtime and generated code versions disagree: 4.12.0!=4.13.1\n",
      "[' NEWLINE INDENT BREAK NEWLINE DEDENT', ' NEWLINE INDENT PASS NEWLINE DEDENT', ' NEWLINE INDENT BREAK NEWLINE DEDENT', ' NEWLINE INDENT ELSE COLON NEWLINE DEDENT', ' NEWLINE INDENT NAME COMMA NAME ASSIGN NAME DOT NAME OPEN_PAREN NAME COMMA NAME COMMA NAME COMMA NAME COMMA NAME CLOSE_PAREN NEWLINE DEDENT', ' NEWLINE INDENT IF NAME COLON NEWLINE DEDENT', ' NEWLINE INDENT NAME ASSIGN NAME DOT NAME OPEN_PAREN NAME EQUALS NAME CLOSE_PAREN OPEN_BRACK NUMBER CLOSE_BRACK NEWLINE DEDENT', ' NEWLINE INDENT PASS NEWLINE DEDENT', ' NEWLINE INDENT NAME STRING NEWLINE DEDENT', ' NEWLINE INDENT RETURN NAME NEWLINE DEDENT', ' NEWLINE INDENT RETURN NAME NEWLINE DEDENT', ' NEWLINE INDENT RETURN NAME NEWLINE DEDENT', ' NEWLINE INDENT RETURN NAME NEWLINE DEDENT', ' NEWLINE INDENT RETURN NAME NEWLINE DEDENT', ' NEWLINE INDENT RETURN TRUE COMMA NAME NEWLINE DEDENT', ' NEWLINE INDENT RETURN TRUE COMMA NAME NEWLINE DEDENT', ' NEWLINE INDENT NAME OPEN_BRACK NAME CLOSE_BRACK ASSIGN NAME NEWLINE DEDENT', ' NEWLINE INDENT NAME ASSIGN NAME DOT NAME OPEN_PAREN NAME DOT NAME OPEN_PAREN NAME COMMA NAME CLOSE_PAREN CLOSE_PAREN NEWLINE DEDENT', ' NEWLINE INDENT NAME ASSIGN NAME NEWLINE DEDENT', ' NEWLINE INDENT NAME ASSIGN NAME NEWLINE DEDENT', ' NEWLINE INDENT NAME ASSIGN NAME NEWLINE DEDENT', ' NEWLINE INDENT NAME ASSIGN NAME DOT NAME OPEN_PAREN NAME COMMA NAME DOT NAME COMMA NAME CLOSE_PAREN NEWLINE DEDENT', ' NEWLINE INDENT NAME ASSIGN NAME DOT NAME OPEN_PAREN NAME COMMA NAME DOT NAME COMMA NAME COMMA NAME CLOSE_PAREN NEWLINE DEDENT', ' NEWLINE INDENT NAME OPEN_BRACK NAME CLOSE_BRACK ASSIGN NAME NEWLINE DEDENT', ' NEWLINE INDENT NAME ASSIGN NAME NEWLINE DEDENT', ' NEWLINE INDENT NAME ASSIGN NAME DOT NAME OPEN_PAREN NAME DOT NAME OPEN_BRACK NUMBER CLOSE_BRACK COMMA NUMBER CLOSE_PAREN NEWLINE DEDENT', ' NEWLINE INDENT NAME ASSIGN NAME DOT NAME OPEN_PAREN NAME DOT NAME OPEN_BRACK NUMBER CLOSE_BRACK COMMA NUMBER CLOSE_PAREN NEWLINE DEDENT', ' NEWLINE INDENT NAME ASSIGN NAME DOT NAME OPEN_PAREN OPEN_PAREN NAME DOT NAME OPEN_PAREN NAME CLOSE_PAREN ADD OPEN_PAREN NAME DOT NAME OPEN_PAREN NAME DOT NAME OPEN_BRACK NUMBER CLOSE_BRACK CLOSE_PAREN MINUS NAME CLOSE_PAREN DOT NAME OPEN_PAREN NAME CLOSE_PAREN CLOSE_PAREN DOT NAME OPEN_PAREN NAME DOT NAME OPEN_BRACK NUMBER CLOSE_BRACK CLOSE_PAREN COMMA NAME DOT NAME CLOSE_PAREN NEWLINE DEDENT', ' NEWLINE INDENT NAME ASSIGN NAME DOT NAME OPEN_PAREN OPEN_PAREN NAME DOT NAME OPEN_PAREN NAME CLOSE_PAREN ADD OPEN_PAREN NAME DOT NAME OPEN_PAREN NAME DOT NAME OPEN_BRACK NUMBER CLOSE_BRACK CLOSE_PAREN MINUS NAME CLOSE_PAREN DOT NAME OPEN_PAREN NAME CLOSE_PAREN CLOSE_PAREN DOT NAME OPEN_PAREN NAME DOT NAME OPEN_BRACK NUMBER CLOSE_BRACK CLOSE_PAREN COMMA NAME DOT NAME CLOSE_PAREN NEWLINE DEDENT', ' NEWLINE INDENT NAME ASSIGN NAME DOT NAME OPEN_PAREN NAME CLOSE_PAREN NEWLINE DEDENT', ' NEWLINE INDENT NAME ASSIGN NAME DOT NAME OPEN_PAREN NAME CLOSE_PAREN NEWLINE DEDENT', ' NEWLINE INDENT NAME ASSIGN NAME DOT NAME OPEN_PAREN NAME CLOSE_PAREN DOT NAME OPEN_PAREN CLOSE_PAREN NEWLINE DEDENT', ' NEWLINE INDENT NAME ASSIGN NAME DOT NAME OPEN_PAREN NAME COMMA NAME ASSIGN TRUE COMMA NAME ASSIGN NAME CLOSE_PAREN NEWLINE DEDENT', ' NEWLINE INDENT NAME ASSIGN NAME DOT NAME OPEN_PAREN NAME COMMA NAME CLOSE_PAREN NEWLINE DEDENT', ' NEWLINE INDENT NAME ASSIGN NAME DOT NAME OPEN_PAREN NAME COMMA NAME CLOSE_PAREN NEWLINE DEDENT', ' NEWLINE INDENT NAME ASSIGN NAME OPEN_BRACK NAME CLOSE_BRACK NEWLINE DEDENT', ' NEWLINE INDENT NAME ASSIGN NUMBER NEWLINE DEDENT', ' NEWLINE INDENT NAME ASSIGN NAME OPEN_BRACK NAME CLOSE_BRACK NEWLINE DEDENT', ' NEWLINE INDENT NAME ASSIGN NAME OPEN_BRACK NAME CLOSE_BRACK NEWLINE DEDENT', ' NEWLINE INDENT NAME ASSIGN NAME OPEN_BRACK NAME CLOSE_BRACK NEWLINE DEDENT', ' NEWLINE INDENT ELSE COLON NEWLINE DEDENT', ' NEWLINE INDENT ELSE COLON NEWLINE DEDENT', ' NEWLINE INDENT ELSE COLON NEWLINE DEDENT', ' NEWLINE INDENT ELSE COLON NEWLINE DEDENT', ' NEWLINE INDENT ELSE COLON NEWLINE DEDENT', ' NEWLINE INDENT ELSE COLON NEWLINE DEDENT', ' NEWLINE INDENT NAME ASSIGN NAME OPEN_PAREN OPEN_BRACE STRING COLON NAME DOT NAME COMMA STRING COLON NAME DOT NAME COMMA STRING COLON NAME DOT NAME COMMA STRING COLON NAME DOT NAME CLOSE_BRACE CLOSE_PAREN NEWLINE DEDENT', ' NEWLINE INDENT NAME ASSIGN NAME OPEN_PAREN OPEN_BRACE STRING COLON NAME DOT NAME COMMA STRING COLON NAME DOT NAME COMMA STRING COLON NAME DOT NAME COMMA STRING COLON NAME DOT NAME CLOSE_BRACE CLOSE_PAREN NEWLINE DEDENT', ' NEWLINE INDENT NAME COMMA NAME ASSIGN NAME DOT NAME OPEN_PAREN NAME COMMA NAME COMMA NAME CLOSE_PAREN NEWLINE DEDENT', ' NEWLINE INDENT NAME ASSIGN OPEN_PAREN NUMBER MINUS NAME DIV NAME OPEN_PAREN NAME CLOSE_PAREN CLOSE_PAREN POWER OPEN_PAREN NAME MINUS NAME MINUS NUMBER CLOSE_PAREN NEWLINE DEDENT', ' NEWLINE INDENT NAME ASSIGN OPEN_PAREN NUMBER MINUS NAME DIV NAME OPEN_PAREN NAME CLOSE_PAREN CLOSE_PAREN POWER OPEN_PAREN NAME MINUS NAME MINUS NUMBER CLOSE_PAREN NEWLINE DEDENT', ' NEWLINE INDENT NAME DOT NAME OPEN_PAREN NAME CLOSE_PAREN NEWLINE DEDENT', ' NEWLINE INDENT NAME DOT NAME OPEN_PAREN NAME CLOSE_PAREN NEWLINE DEDENT', ' NEWLINE INDENT NAME DOT NAME OPEN_PAREN NAME CLOSE_PAREN NEWLINE DEDENT', ' NEWLINE INDENT NAME COMMA NAME ASSIGN NAME DOT NAME OPEN_PAREN NAME CLOSE_PAREN NEWLINE DEDENT', ' NEWLINE INDENT NAME COMMA NAME ASSIGN NAME DOT NAME OPEN_PAREN NAME COMMA NAME ASSIGN TRUE COMMA NAME ASSIGN NAME CLOSE_PAREN NEWLINE DEDENT', ' NEWLINE INDENT NAME ASSIGN NAME OPEN_PAREN OPEN_BRACE STRING COLON NAME DOT NAME COMMA STRING COLON NAME DOT NAME COMMA STRING COLON NAME CLOSE_BRACE CLOSE_PAREN NEWLINE DEDENT', ' NEWLINE INDENT NAME ASSIGN NAME OPEN_PAREN OPEN_BRACE STRING COLON NAME DOT NAME COMMA STRING COLON NAME DOT NAME COMMA STRING COLON NAME CLOSE_BRACE CLOSE_PAREN NEWLINE DEDENT', ' NEWLINE INDENT NAME ASSIGN NAME ADD NAME NEWLINE DEDENT', ' NEWLINE INDENT NAME ASSIGN NAME DOT NAME OPEN_PAREN CLOSE_PAREN ADD NAME NEWLINE DEDENT', ' NEWLINE INDENT NAME DOT NAME OPEN_PAREN NAME DOT NAME OPEN_PAREN NAME CLOSE_PAREN CLOSE_PAREN NEWLINE DEDENT', ' NEWLINE INDENT NAME ASSIGN NAME STAR OPEN_PAREN NUMBER MINUS NAME CLOSE_PAREN NEWLINE DEDENT', ' NEWLINE INDENT NAME ASSIGN NAME OPEN_BRACK NAME DOT NAME OPEN_PAREN NAME CLOSE_PAREN CLOSE_BRACK NEWLINE DEDENT', ' NEWLINE INDENT NAME ASSIGN NAME OPEN_BRACK NAME DOT NAME OPEN_PAREN NAME CLOSE_PAREN CLOSE_BRACK NEWLINE DEDENT', ' NEWLINE INDENT IF NAME EQUALS MINUS NUMBER COLON NEWLINE DEDENT', ' NEWLINE INDENT IF NAME COLON NEWLINE DEDENT', ' NEWLINE INDENT IF NAME COLON NEWLINE DEDENT', ' NEWLINE INDENT IF NAME DOT NAME OPEN_PAREN NAME CLOSE_PAREN LT_EQ NUMBER COLON NEWLINE DEDENT', ' NEWLINE INDENT IF NAME DOT NAME OPEN_PAREN NAME CLOSE_PAREN LT_EQ NUMBER COLON NEWLINE DEDENT', ' NEWLINE INDENT IF NAME DOT NAME OPEN_PAREN NAME CLOSE_PAREN LT_EQ NUMBER COLON NEWLINE DEDENT', ' NEWLINE INDENT IF NAME LESS_THAN NAME DOT NAME OPEN_BRACK NUMBER CLOSE_BRACK COLON NEWLINE DEDENT', ' NEWLINE INDENT IF NAME OPEN_PAREN NAME CLOSE_PAREN EQUALS NAME OPEN_PAREN NAME CLOSE_PAREN COLON NEWLINE DEDENT', ' NEWLINE INDENT IF NAME OPEN_PAREN NAME CLOSE_PAREN EQUALS NAME OPEN_PAREN NAME CLOSE_PAREN COLON NEWLINE DEDENT', ' NEWLINE INDENT IF NAME LT_EQ NAME COLON NEWLINE DEDENT', ' NEWLINE INDENT NAME ASSIGN NAME STAR NAME MINUS NAME NEWLINE DEDENT', ' NEWLINE INDENT NAME ASSIGN NAME STAR NAME MINUS NAME NEWLINE DEDENT', ' NEWLINE INDENT NAME ASSIGN NAME OPEN_BRACK NAME DOT NAME OPEN_PAREN NAME CLOSE_PAREN CLOSE_BRACK NEWLINE DEDENT', ' NEWLINE INDENT NAME ADD_ASSIGN NUMBER NEWLINE DEDENT', ' NEWLINE INDENT NAME ADD_ASSIGN NUMBER NEWLINE DEDENT', ' NEWLINE INDENT NAME ASSIGN NAME DOT NAME OPEN_PAREN NAME CLOSE_PAREN NEWLINE DEDENT', ' NEWLINE INDENT NAME ASSIGN NAME DOT NAME OPEN_PAREN NAME CLOSE_PAREN NEWLINE DEDENT', ' NEWLINE INDENT NAME STRING COMMA NAME DOT NAME NEWLINE DEDENT', ' NEWLINE INDENT NAME COMMA NAME ASSIGN NAME DOT NAME OPEN_PAREN NAME DOT NAME OPEN_PAREN NAME COMMA NAME ASSIGN NONE CLOSE_PAREN COMMA NAME DOT NAME CLOSE_PAREN NEWLINE DEDENT', ' NEWLINE INDENT RETURN FALSE COMMA NAME NEWLINE DEDENT', ' NEWLINE INDENT RETURN NAME NEWLINE DEDENT', ' NEWLINE INDENT RETURN NAME NEWLINE DEDENT', ' NEWLINE INDENT RETURN TRUE COMMA NAME NEWLINE DEDENT', ' NEWLINE INDENT NAME ASSIGN NAME DOT NAME OPEN_PAREN NAME CLOSE_PAREN NEWLINE DEDENT', ' NEWLINE INDENT NAME ASSIGN NAME DOT NAME OPEN_PAREN NAME CLOSE_PAREN NEWLINE DEDENT', ' NEWLINE INDENT NAME DOT NAME ASSIGN NAME OPEN_BRACK STRING CLOSE_BRACK NEWLINE DEDENT', ' NEWLINE INDENT NAME DOT NAME ASSIGN NAME DOT NAME OPEN_PAREN NAME OPEN_BRACK STRING CLOSE_BRACK MINUS NAME OPEN_BRACK STRING CLOSE_BRACK CLOSE_PAREN NEWLINE DEDENT', ' NEWLINE INDENT NAME ASSIGN NAME DOT NAME OPEN_PAREN NAME COMMA NAME DOT NAME CLOSE_PAREN NEWLINE DEDENT', ' NEWLINE INDENT NAME ASSIGN NAME DOT NAME OPEN_PAREN NAME COMMA NAME DOT NAME CLOSE_PAREN NEWLINE DEDENT', ' NEWLINE INDENT NAME ASSIGN NAME DOT NAME OPEN_PAREN CLOSE_PAREN NEWLINE DEDENT', ' NEWLINE INDENT NAME ASSIGN NAME DOT NAME OPEN_PAREN CLOSE_PAREN NEWLINE DEDENT', ' NEWLINE INDENT NAME ASSIGN NAME DOT NAME OPEN_PAREN NAME ASSIGN TRUE CLOSE_PAREN NEWLINE DEDENT', ' NEWLINE INDENT NAME ASSIGN NAME DOT NAME OPEN_PAREN NAME ASSIGN NAME OPEN_BRACK STRING CLOSE_BRACK COMMA NAME ASSIGN FALSE CLOSE_PAREN NEWLINE DEDENT', ' NEWLINE INDENT NAME ASSIGN NAME DOT NAME OPEN_PAREN NAME COMMA NAME CLOSE_PAREN NEWLINE DEDENT', ' NEWLINE INDENT NAME ASSIGN NAME DOT NAME OPEN_PAREN NAME COMMA NAME CLOSE_PAREN NEWLINE DEDENT', ' NEWLINE INDENT NAME ASSIGN NAME DOT NAME OPEN_PAREN CLOSE_PAREN NEWLINE DEDENT', ' NEWLINE INDENT NAME ASSIGN NAME DOT NAME OPEN_PAREN CLOSE_PAREN NEWLINE DEDENT', ' NEWLINE INDENT NAME ASSIGN NAME DOT NAME OPEN_PAREN CLOSE_PAREN NEWLINE DEDENT', ' NEWLINE INDENT NAME ASSIGN NAME DOT NAME OPEN_PAREN CLOSE_PAREN NEWLINE DEDENT', ' NEWLINE INDENT NAME OPEN_BRACK NAME OPEN_PAREN NAME CLOSE_PAREN CLOSE_BRACK ASSIGN NAME NEWLINE DEDENT', ' NEWLINE INDENT NAME ASSIGN NAME DOT NAME OPEN_PAREN NAME CLOSE_PAREN NEWLINE DEDENT', ' NEWLINE INDENT NAME ASSIGN NAME DOT NAME OPEN_PAREN NAME CLOSE_PAREN NEWLINE DEDENT', ' NEWLINE INDENT NAME ASSIGN NAME DOT NAME OPEN_PAREN NAME COMMA NAME CLOSE_PAREN NEWLINE DEDENT', ' NEWLINE INDENT NAME ASSIGN NAME DOT NAME OPEN_PAREN NAME CLOSE_PAREN NEWLINE DEDENT', ' NEWLINE INDENT NAME ASSIGN NAME DOT NAME OPEN_PAREN NAME CLOSE_PAREN NEWLINE DEDENT', ' NEWLINE INDENT NAME OPEN_BRACK NAME OPEN_BRACK NAME CLOSE_BRACK CLOSE_BRACK ASSIGN NUMBER NEWLINE DEDENT', ' NEWLINE INDENT NAME ASSIGN NAME DOT NAME OPEN_PAREN NAME CLOSE_PAREN NEWLINE DEDENT', ' NEWLINE INDENT NAME COMMA NAME ASSIGN NAME DOT NAME OPEN_PAREN NAME CLOSE_PAREN NEWLINE DEDENT', ' NEWLINE INDENT NAME COMMA NAME ASSIGN NAME DOT NAME OPEN_PAREN NAME CLOSE_PAREN NEWLINE DEDENT', ' NEWLINE INDENT NAME ASSIGN NUMBER NEWLINE DEDENT', ' NEWLINE INDENT NAME ASSIGN NAME DOT NAME OPEN_PAREN NAME CLOSE_PAREN NEWLINE DEDENT', ' NEWLINE INDENT NAME ASSIGN NUMBER ADD NAME DOT NAME DIV NAME OPEN_PAREN NAME DOT NAME POWER NUMBER CLOSE_PAREN NEWLINE DEDENT', ' NEWLINE INDENT NAME ASSIGN NAME DOT NAME OPEN_PAREN NAME DOT NAME CLOSE_PAREN NEWLINE DEDENT', ' NEWLINE INDENT NAME ASSIGN NAME DOT NAME OPEN_PAREN NAME DOT NAME CLOSE_PAREN NEWLINE DEDENT', ' NEWLINE INDENT NAME ASSIGN NAME DOT NAME DOT NAME OPEN_PAREN NUMBER COMMA NUMBER COMMA NAME DOT NAME CLOSE_PAREN NEWLINE DEDENT', ' NEWLINE INDENT NAME ASSIGN NAME DOT NAME DOT NAME OPEN_PAREN NUMBER COMMA NUMBER COMMA NAME DOT NAME CLOSE_PAREN NEWLINE DEDENT', ' NEWLINE INDENT NAME ASSIGN NAME OPEN_PAREN OPEN_BRACE STRING COLON NAME DOT NAME COMMA STRING COLON NAME DOT NAME COMMA STRING COLON NAME DOT NAME COMMA STRING COLON NAME DOT NAME CLOSE_BRACE CLOSE_PAREN NEWLINE DEDENT', ' NEWLINE INDENT NAME ASSIGN NAME OPEN_PAREN OPEN_BRACE STRING COLON NAME DOT NAME COMMA STRING COLON NAME DOT NAME COMMA STRING COLON NAME DOT NAME COMMA STRING COLON NAME DOT NAME CLOSE_BRACE CLOSE_PAREN NEWLINE DEDENT', ' NEWLINE INDENT NAME ASSIGN NAME DOT NAME OPEN_PAREN NAME CLOSE_PAREN NEWLINE DEDENT', ' NEWLINE INDENT NAME ASSIGN NAME DOT NAME OPEN_PAREN OPEN_BRACK CLOSE_BRACK CLOSE_PAREN DOT NAME OPEN_PAREN NAME CLOSE_PAREN NEWLINE DEDENT', ' NEWLINE INDENT NAME ASSIGN NAME DOT NAME OPEN_PAREN OPEN_BRACK CLOSE_BRACK CLOSE_PAREN DOT NAME OPEN_PAREN NAME CLOSE_PAREN NEWLINE DEDENT', ' NEWLINE INDENT NAME ASSIGN NAME DOT NAME OPEN_PAREN OPEN_BRACK NAME DOT NAME OPEN_PAREN NAME CLOSE_PAREN CLOSE_BRACK CLOSE_PAREN NEWLINE DEDENT', ' NEWLINE INDENT ELSE COLON NEWLINE DEDENT', ' NEWLINE INDENT ELSE COLON NEWLINE DEDENT', ' NEWLINE INDENT ELSE COLON NEWLINE DEDENT', ' NEWLINE INDENT NAME ASSIGN NAME DOT NAME OPEN_PAREN OPEN_BRACK CLOSE_BRACK CLOSE_PAREN DOT NAME OPEN_PAREN NAME CLOSE_PAREN NEWLINE DEDENT', ' NEWLINE INDENT NAME ASSIGN NAME DOT NAME OPEN_PAREN CLOSE_PAREN NEWLINE DEDENT', ' NEWLINE INDENT FOR NAME IN NAME OPEN_PAREN NAME COMMA NAME DOT NAME OPEN_BRACK NUMBER CLOSE_BRACK CLOSE_PAREN COLON NEWLINE DEDENT', ' NEWLINE INDENT FOR NAME IN NAME OPEN_PAREN NAME CLOSE_PAREN COLON NEWLINE DEDENT', ' NEWLINE INDENT FOR NAME IN NAME OPEN_PAREN NAME CLOSE_PAREN COLON NEWLINE DEDENT', ' NEWLINE INDENT FOR NAME IN NAME OPEN_PAREN NAME CLOSE_PAREN COLON NEWLINE DEDENT', ' NEWLINE INDENT FOR NAME IN NAME OPEN_PAREN NAME DOT NAME CLOSE_PAREN COLON NEWLINE DEDENT', ' NEWLINE INDENT FOR NAME IN NAME OPEN_PAREN NAME ADD NUMBER CLOSE_PAREN COLON NEWLINE DEDENT', ' NEWLINE INDENT NAME ASSIGN NAME OPEN_PAREN OPEN_BRACE STRING COLON NAME DOT NAME COMMA STRING COLON NAME DOT NAME COMMA STRING COLON NAME DOT NAME COMMA STRING COLON NAME DOT NAME CLOSE_BRACE CLOSE_PAREN NEWLINE DEDENT', ' NEWLINE INDENT NAME ASSIGN NAME OPEN_PAREN OPEN_BRACE STRING COLON NAME DOT NAME COMMA STRING COLON NAME DOT NAME COMMA STRING COLON NAME DOT NAME COMMA STRING COLON NAME DOT NAME CLOSE_BRACE CLOSE_PAREN NEWLINE DEDENT', ' NEWLINE INDENT NAME DOT NAME OPEN_PAREN CLOSE_PAREN NEWLINE DEDENT', ' NEWLINE INDENT NAME DOT NAME OPEN_PAREN CLOSE_PAREN NEWLINE DEDENT', ' NEWLINE INDENT NAME ASSIGN NAME OPEN_PAREN OPEN_BRACE STRING COLON NAME DOT NAME COMMA STRING COLON NAME DOT NAME COMMA STRING COLON NAME DOT NAME COMMA STRING COLON NAME DOT NAME CLOSE_BRACE CLOSE_PAREN NEWLINE DEDENT', ' NEWLINE INDENT NAME COMMA NAME COMMA NAME ASSIGN NAME DOT NAME OPEN_PAREN NAME COMMA NAME COMMA NAME CLOSE_PAREN NEWLINE DEDENT', ' NEWLINE INDENT NAME ASSIGN NAME DOT NAME OPEN_PAREN NAME CLOSE_PAREN NEWLINE DEDENT', ' NEWLINE INDENT NAME ASSIGN NAME DOT NAME OPEN_PAREN NAME CLOSE_PAREN NEWLINE DEDENT', ' NEWLINE INDENT NAME ASSIGN NAME DOT NAME OPEN_PAREN NAME CLOSE_PAREN NEWLINE DEDENT', ' NEWLINE INDENT NAME ASSIGN OPEN_BRACK CLOSE_BRACK NEWLINE DEDENT', ' NEWLINE INDENT NAME DOT NAME OPEN_PAREN NAME DOT NAME OPEN_PAREN NAME CLOSE_PAREN CLOSE_PAREN NEWLINE DEDENT', ' NEWLINE INDENT NAME ASSIGN NUMBER NEWLINE DEDENT', ' NEWLINE INDENT NAME ASSIGN NAME DOT NAME OPEN_PAREN NAME CLOSE_PAREN NEWLINE DEDENT', ' NEWLINE INDENT NAME ASSIGN NAME DOT NAME NEWLINE DEDENT', ' NEWLINE INDENT IF NAME DOT NAME OPEN_PAREN NAME CLOSE_PAREN GREATER_THAN NAME DOT NAME OPEN_PAREN NAME CLOSE_PAREN COLON NEWLINE DEDENT', ' NEWLINE INDENT IF NAME DOT NAME OPEN_PAREN NAME CLOSE_PAREN GREATER_THAN NAME STAR NAME COLON NEWLINE DEDENT', ' NEWLINE INDENT IF NAME DOT NAME OPEN_PAREN NAME CLOSE_PAREN GT_EQ NAME STAR NAME COLON NEWLINE DEDENT', ' NEWLINE INDENT IF NAME EQUALS STRING COLON NEWLINE DEDENT', ' NEWLINE INDENT IF NAME EQUALS STRING COLON NEWLINE DEDENT', ' NEWLINE INDENT IF NAME EQUALS STRING COLON NEWLINE DEDENT', ' NEWLINE INDENT IF NAME EQUALS STRING COLON NEWLINE DEDENT', ' NEWLINE INDENT IF NAME EQUALS STRING COLON NEWLINE DEDENT', ' NEWLINE INDENT IF NAME EQUALS STRING COLON NEWLINE DEDENT', ' NEWLINE INDENT IF NAME EQUALS STRING COLON NEWLINE DEDENT', ' NEWLINE INDENT IF NAME EQUALS STRING COLON NEWLINE DEDENT', ' NEWLINE INDENT IF NAME COLON NEWLINE DEDENT', ' NEWLINE INDENT IF NAME DOT NAME OPEN_BRACK NUMBER CLOSE_BRACK EQUALS NAME DOT NAME COLON NEWLINE DEDENT', ' NEWLINE INDENT IF NAME DOT NAME EQUALS NUMBER COLON NEWLINE DEDENT', ' NEWLINE INDENT IF NAME NOT_EQ_2 NUMBER COLON NEWLINE DEDENT', ' NEWLINE INDENT NAME ASSIGN NUMBER NEWLINE DEDENT', ' NEWLINE INDENT NAME ASSIGN NUMBER NEWLINE DEDENT', ' NEWLINE INDENT NAME ASSIGN NAME OPEN_PAREN OPEN_BRACE STRING COLON NAME DOT NAME COMMA STRING COLON NAME DOT NAME COMMA STRING COLON NAME DOT NAME COMMA STRING COLON NAME DOT NAME CLOSE_BRACE CLOSE_PAREN NEWLINE DEDENT', ' NEWLINE INDENT NAME ASSIGN NAME DOT NAME OPEN_PAREN NAME DOT NAME OPEN_PAREN NAME CLOSE_PAREN CLOSE_PAREN NEWLINE DEDENT', ' NEWLINE INDENT NAME ASSIGN OPEN_PAREN NAME DOT NAME OPEN_PAREN NAME CLOSE_PAREN CLOSE_PAREN DOT NAME OPEN_PAREN NAME CLOSE_PAREN NEWLINE DEDENT', ' NEWLINE INDENT NAME ASSIGN OPEN_PAREN NAME DOT NAME OPEN_PAREN NAME CLOSE_PAREN CLOSE_PAREN DOT NAME OPEN_PAREN NAME CLOSE_PAREN NEWLINE DEDENT', ' NEWLINE INDENT NAME ASSIGN OPEN_BRACE CLOSE_BRACE NEWLINE DEDENT', ' NEWLINE INDENT NAME ASSIGN OPEN_BRACE STRING COLON NAME COMMA STRING COLON NAME CLOSE_BRACE NEWLINE DEDENT', ' NEWLINE INDENT NAME OPEN_BRACK STRING CLOSE_BRACK ASSIGN OPEN_BRACE STRING COLON NAME COMMA STRING COLON NAME CLOSE_BRACE NEWLINE DEDENT', ' NEWLINE INDENT NAME OPEN_BRACK STRING CLOSE_BRACK ASSIGN OPEN_BRACE STRING COLON NAME COMMA STRING COLON NAME CLOSE_BRACE NEWLINE DEDENT', ' NEWLINE INDENT NAME OPEN_BRACK STRING CLOSE_BRACK ASSIGN OPEN_BRACE STRING COLON NAME COMMA STRING COLON NAME COMMA STRING COLON NAME CLOSE_BRACE NEWLINE DEDENT', ' NEWLINE INDENT NAME STRING COMMA NAME COMMA STRING COMMA NAME COMMA STRING COMMA NAME DOT NAME NEWLINE DEDENT', ' NEWLINE INDENT NAME STRING COMMA OPEN_PAREN NAME MINUS NAME CLOSE_PAREN NEWLINE DEDENT', ' NEWLINE INDENT RETURN NAME NEWLINE DEDENT', ' NEWLINE INDENT RETURN NAME NEWLINE DEDENT', ' NEWLINE INDENT RETURN NAME NEWLINE DEDENT', ' NEWLINE INDENT RETURN FALSE COMMA NAME NEWLINE DEDENT', ' NEWLINE INDENT RETURN FALSE COMMA NAME NEWLINE DEDENT', ' NEWLINE INDENT RETURN NAME DOT NAME OPEN_PAREN NAME DOT NAME CLOSE_PAREN NEWLINE DEDENT', ' NEWLINE INDENT RETURN NAME DOT NAME OPEN_PAREN NAME DOT NAME STAR NAME STAR NAME DOT NAME OPEN_PAREN NAME DOT NAME CLOSE_PAREN ADD NAME DOT NAME OPEN_PAREN NAME DOT NAME CLOSE_PAREN CLOSE_PAREN DOT NAME OPEN_PAREN NAME DOT NAME OPEN_PAREN NAME CLOSE_PAREN CLOSE_PAREN NEWLINE DEDENT', ' NEWLINE INDENT RETURN NAME DOT NAME OPEN_PAREN OPEN_BRACK NAME FOR NAME IN NAME IF NAME NOT_EQ_2 NAME CLOSE_BRACK CLOSE_PAREN NEWLINE DEDENT', ' NEWLINE INDENT RETURN NAME DOT NAME OPEN_PAREN OPEN_BRACK NAME OPEN_PAREN NAME CLOSE_PAREN FOR NAME IN NAME DOT NAME IF NAME NOT IN NAME CLOSE_BRACK CLOSE_PAREN NEWLINE DEDENT', ' NEWLINE INDENT RETURN NAME DOT NAME OPEN_PAREN OPEN_PAREN NAME COMMA NAME DOT NAME OPEN_PAREN OPEN_BRACK NAME OPEN_PAREN NAME CLOSE_PAREN CLOSE_BRACK CLOSE_PAREN CLOSE_PAREN COMMA NAME ASSIGN NUMBER CLOSE_PAREN NEWLINE DEDENT', ' NEWLINE INDENT RETURN NAME NEWLINE DEDENT', ' NEWLINE INDENT RETURN NAME NEWLINE DEDENT', ' NEWLINE INDENT RETURN NAME NEWLINE DEDENT', ' NEWLINE INDENT RETURN NAME NEWLINE DEDENT', ' NEWLINE INDENT RETURN NAME NEWLINE DEDENT', ' NEWLINE INDENT RETURN NAME NEWLINE DEDENT', ' NEWLINE INDENT RETURN NAME OPEN_BRACK NAME OPEN_PAREN NAME CLOSE_PAREN CLOSE_BRACK NEWLINE DEDENT', ' NEWLINE INDENT RETURN NAME NEWLINE DEDENT', ' NEWLINE INDENT NAME ASSIGN NAME OPEN_PAREN NAME DOT NAME OPEN_PAREN NAME DOT NAME STAR NAME DOT NAME OPEN_PAREN NAME OPEN_PAREN NUMBER CLOSE_PAREN DIV NAME CLOSE_PAREN DIV NAME OPEN_PAREN NAME CLOSE_PAREN CLOSE_PAREN CLOSE_PAREN NEWLINE DEDENT', ' NEWLINE INDENT NAME DOT NAME ASSIGN NUMBER NEWLINE DEDENT', ' NEWLINE INDENT NAME DOT NAME ASSIGN NAME DOT NAME DOT NAME OPEN_BRACK NUMBER CLOSE_BRACK NEWLINE DEDENT', ' NEWLINE INDENT NAME DOT NAME ASSIGN NAME OPEN_PAREN NUMBER CLOSE_PAREN NEWLINE DEDENT', ' NEWLINE INDENT NAME DOT NAME ASSIGN NAME NEWLINE DEDENT', ' NEWLINE INDENT NAME DOT NAME ASSIGN NAME NEWLINE DEDENT', ' NEWLINE INDENT NAME DOT NAME ASSIGN NAME DOT NAME DOT NAME OPEN_BRACK NUMBER CLOSE_BRACK NEWLINE DEDENT', ' NEWLINE INDENT NAME DOT NAME ASSIGN NAME NEWLINE DEDENT', ' NEWLINE INDENT NAME DOT NAME OPEN_PAREN NAME OPEN_BRACK STRING CLOSE_BRACK COMMA NAME OPEN_PAREN NAME OPEN_BRACK STRING CLOSE_BRACK STAR NAME DOT NAME CLOSE_PAREN CLOSE_PAREN NEWLINE DEDENT', ' NEWLINE INDENT NAME DOT NAME ASSIGN NAME DOT NAME OPEN_PAREN NAME DOT NAME CLOSE_PAREN NEWLINE DEDENT', ' NEWLINE INDENT NAME DOT NAME ASSIGN NAME OPEN_BRACK STRING CLOSE_BRACK NEWLINE DEDENT', ' NEWLINE INDENT NAME DOT NAME ASSIGN NAME OPEN_BRACK STRING CLOSE_BRACK NEWLINE DEDENT', ' NEWLINE INDENT NAME ASSIGN NAME DOT NAME OPEN_PAREN CLOSE_PAREN NEWLINE DEDENT', ' NEWLINE INDENT NAME ASSIGN NUMBER NEWLINE DEDENT', ' NEWLINE INDENT NAME ASSIGN OPEN_BRACK NAME FOR NAME IN NAME OPEN_PAREN NAME OPEN_PAREN NAME CLOSE_PAREN CLOSE_PAREN IF NAME OPEN_BRACK NAME CLOSE_BRACK NOT_EQ_2 NUMBER CLOSE_BRACK NEWLINE DEDENT', ' NEWLINE INDENT NAME ASSIGN OPEN_BRACK NAME FOR NAME IN NAME OPEN_PAREN NAME OPEN_PAREN NAME CLOSE_PAREN CLOSE_PAREN IF NAME OPEN_BRACK NAME CLOSE_BRACK NOT_EQ_2 NUMBER CLOSE_BRACK NEWLINE DEDENT', ' NEWLINE INDENT NAME ASSIGN OPEN_BRACE CLOSE_BRACE NEWLINE DEDENT', ' NEWLINE INDENT NAME ASSIGN NAME DOT NAME OPEN_PAREN OPEN_BRACK CLOSE_BRACK CLOSE_PAREN DOT NAME OPEN_PAREN NAME CLOSE_PAREN NEWLINE DEDENT', ' NEWLINE INDENT NAME ASSIGN NAME DOT NAME OPEN_PAREN OPEN_BRACK CLOSE_BRACK CLOSE_PAREN DOT NAME OPEN_PAREN NAME CLOSE_PAREN NEWLINE DEDENT', ' NEWLINE INDENT NAME ASSIGN NAME DOT NAME OPEN_PAREN NAME CLOSE_PAREN NEWLINE DEDENT', ' NEWLINE INDENT NAME ASSIGN NAME DOT NAME OPEN_PAREN NAME CLOSE_PAREN NEWLINE DEDENT', ' NEWLINE INDENT NAME OPEN_BRACK NAME OPEN_PAREN NAME ADD NUMBER CLOSE_PAREN CLOSE_BRACK ASSIGN NAME NEWLINE DEDENT', ' NEWLINE INDENT NAME ASSIGN NAME DOT NAME OPEN_PAREN NAME COMMA NAME COMMA NAME CLOSE_PAREN NEWLINE DEDENT', ' NEWLINE INDENT NAME ASSIGN NAME DOT NAME OPEN_PAREN NAME COMMA NAME COMMA NAME CLOSE_PAREN NEWLINE DEDENT', ' NEWLINE INDENT NAME ASSIGN NAME DOT NAME OPEN_PAREN NAME CLOSE_PAREN NEWLINE DEDENT', ' NEWLINE INDENT NAME ASSIGN NAME DOT NAME MINUS NAME DOT NAME OPEN_BRACK NUMBER CLOSE_BRACK NEWLINE DEDENT', ' NEWLINE INDENT NAME ASSIGN NAME DOT NAME OPEN_PAREN OPEN_BRACK CLOSE_BRACK CLOSE_PAREN NEWLINE DEDENT', ' NEWLINE INDENT NAME ASSIGN NAME DOT NAME OPEN_PAREN OPEN_BRACK CLOSE_BRACK CLOSE_PAREN NEWLINE DEDENT', ' NEWLINE INDENT NAME ASSIGN NUMBER NEWLINE DEDENT', ' NEWLINE INDENT NAME ASSIGN NUMBER NEWLINE DEDENT', ' NEWLINE INDENT NAME ASSIGN NAME DOT NAME OPEN_PAREN NAME CLOSE_PAREN NEWLINE DEDENT', ' NEWLINE INDENT NAME ASSIGN NAME DOT NAME OPEN_PAREN NAME CLOSE_PAREN NEWLINE DEDENT', ' NEWLINE INDENT NAME ASSIGN NAME OPEN_BRACK COLON COLON MINUS NUMBER CLOSE_BRACK NEWLINE DEDENT', ' NEWLINE INDENT NAME ASSIGN OPEN_PAREN NAME DOT NAME OPEN_PAREN NAME CLOSE_PAREN CLOSE_PAREN DOT NAME OPEN_PAREN NAME MINUS NAME CLOSE_PAREN NEWLINE DEDENT', ' NEWLINE INDENT NAME ASSIGN OPEN_PAREN NAME DOT NAME OPEN_PAREN NAME CLOSE_PAREN CLOSE_PAREN DOT NAME OPEN_PAREN NAME MINUS NAME CLOSE_PAREN NEWLINE DEDENT', ' NEWLINE INDENT NAME ASSIGN NAME DOT NAME OPEN_PAREN NAME DOT NAME OPEN_BRACK NUMBER CLOSE_BRACK CLOSE_PAREN NEWLINE DEDENT', ' NEWLINE INDENT NAME ASSIGN NAME DOT NAME OPEN_PAREN NAME DOT NAME OPEN_BRACK NUMBER CLOSE_BRACK CLOSE_PAREN NEWLINE DEDENT', ' NEWLINE INDENT WHILE NAME DOT NAME OPEN_PAREN NAME MINUS NAME CLOSE_PAREN GREATER_THAN NAME COLON NEWLINE DEDENT', ' NEWLINE INDENT WHILE NAME DOT NAME OPEN_PAREN NAME MINUS NAME CLOSE_PAREN GREATER_THAN NAME COLON NEWLINE DEDENT', ' NEWLINE INDENT WHILE TRUE COLON NEWLINE DEDENT', ' NEWLINE INDENT WHILE TRUE COLON NEWLINE DEDENT', ' NEWLINE INDENT WHILE TRUE COLON NEWLINE DEDENT', ' NEWLINE INDENT NAME ASSIGN NAME DOT NAME OPEN_PAREN NAME COMMA NUMBER COMMA NUMBER CLOSE_PAREN NEWLINE DEDENT', ' NEWLINE INDENT NAME ASSIGN NAME DOT NAME OPEN_PAREN NAME COMMA NUMBER COMMA NUMBER CLOSE_PAREN NEWLINE DEDENT', ' NEWLINE INDENT NAME ASSIGN NAME DOT NAME NEWLINE DEDENT', ' NEWLINE INDENT NAME ASSIGN NAME DOT NAME NEWLINE DEDENT', ' NEWLINE INDENT NAME ASSIGN NAME DOT NAME OPEN_BRACK COLON COMMA NUMBER CLOSE_BRACK DOT NAME OPEN_PAREN CLOSE_PAREN NEWLINE DEDENT', ' NEWLINE INDENT NAME ASSIGN NAME DOT NAME OPEN_BRACK NAME COMMA NUMBER CLOSE_BRACK DOT NAME OPEN_PAREN CLOSE_PAREN NEWLINE DEDENT', ' NEWLINE INDENT NAME ASSIGN NAME DOT NAME OPEN_BRACK NAME COMMA NUMBER CLOSE_BRACK DOT NAME OPEN_PAREN CLOSE_PAREN NEWLINE DEDENT', ' NEWLINE INDENT NAME ASSIGN NAME DOT NAME OPEN_BRACK NAME CLOSE_BRACK DOT NAME NEWLINE DEDENT', ' NEWLINE INDENT NAME ASSIGN NAME DOT NAME NEWLINE DEDENT', ' NEWLINE INDENT NAME ASSIGN NAME DOT NAME NEWLINE DEDENT', ' NEWLINE INDENT NAME ASSIGN NAME DOT NAME OPEN_PAREN NAME CLOSE_PAREN NEWLINE DEDENT', ' NEWLINE INDENT NAME ASSIGN NAME DOT NAME OPEN_PAREN NAME CLOSE_PAREN NEWLINE DEDENT', ' NEWLINE INDENT NAME ASSIGN NAME ADD NAME DOT NAME STAR NAME DOT NAME OPEN_PAREN NAME DOT NAME CLOSE_PAREN NEWLINE DEDENT', ' NEWLINE INDENT NAME ASSIGN NAME DOT NAME OPEN_PAREN NAME CLOSE_PAREN NEWLINE DEDENT', ' NEWLINE INDENT NAME ASSIGN NAME DOT NAME OPEN_PAREN NAME CLOSE_PAREN NEWLINE DEDENT', ' NEWLINE INDENT NAME ASSIGN NAME DOT NAME DOT NAME OPEN_PAREN NAME CLOSE_PAREN DOT NAME OPEN_PAREN CLOSE_PAREN NEWLINE DEDENT', ' NEWLINE INDENT NAME ASSIGN NAME DOT NAME NEWLINE DEDENT', ' NEWLINE INDENT NAME ASSIGN NAME DOT NAME NEWLINE DEDENT', ' NEWLINE INDENT NAME ASSIGN NAME DOT NAME OPEN_BRACK NAME CLOSE_BRACK NEWLINE DEDENT', ' NEWLINE INDENT NAME ASSIGN NAME DOT NAME OPEN_BRACK NAME CLOSE_BRACK NEWLINE DEDENT', ' NEWLINE INDENT NAME ASSIGN NAME DOT NAME OPEN_PAREN NAME DOT NAME OPEN_BRACK NUMBER CLOSE_BRACK COMMA NUMBER CLOSE_PAREN NEWLINE DEDENT', ' NEWLINE INDENT NAME ASSIGN NAME DOT NAME OPEN_PAREN NAME DOT NAME OPEN_BRACK NUMBER CLOSE_BRACK COMMA NUMBER CLOSE_PAREN NEWLINE DEDENT', ' NEWLINE INDENT NAME ASSIGN NAME DOT NAME OPEN_BRACK NAME CLOSE_BRACK NEWLINE DEDENT', ' NEWLINE INDENT DEF NAME OPEN_PAREN NAME COMMA NAME COMMA NAME ASSIGN NONE CLOSE_PAREN COLON NEWLINE DEDENT', ' NEWLINE INDENT DEF NAME OPEN_PAREN NAME COMMA NAME COMMA NAME CLOSE_PAREN COLON NEWLINE DEDENT', ' NEWLINE INDENT DEF NAME OPEN_PAREN NAME COMMA NAME COMMA NAME COMMA NAME CLOSE_PAREN COLON NEWLINE DEDENT', ' NEWLINE INDENT DEF NAME OPEN_PAREN NAME COMMA NAME COMMA NAME COMMA NAME CLOSE_PAREN COLON NEWLINE DEDENT', ' NEWLINE INDENT DEF NAME OPEN_PAREN NAME COMMA NAME COMMA NAME COMMA NAME COMMA NAME COMMA NAME CLOSE_PAREN COLON NEWLINE DEDENT', ' NEWLINE INDENT DEF NAME OPEN_PAREN NAME COMMA NAME COMMA NAME CLOSE_PAREN COLON NEWLINE DEDENT', ' NEWLINE INDENT DEF NAME OPEN_PAREN NAME COMMA NAME COMMA NAME CLOSE_PAREN COLON NEWLINE DEDENT', ' NEWLINE INDENT DEF NAME OPEN_PAREN NAME CLOSE_PAREN COLON NEWLINE DEDENT', ' NEWLINE INDENT DEF NAME OPEN_PAREN NAME CLOSE_PAREN COLON NEWLINE DEDENT', ' NEWLINE INDENT DEF NAME OPEN_PAREN NAME COMMA NAME COMMA NAME COMMA NAME CLOSE_PAREN COLON NEWLINE DEDENT', ' NEWLINE INDENT DEF NAME OPEN_PAREN NAME COMMA NAME ASSIGN NUMBER COMMA NAME ASSIGN NUMBER COMMA NAME ASSIGN NONE CLOSE_PAREN COLON NEWLINE DEDENT', ' NEWLINE INDENT DEF NAME OPEN_PAREN NAME COMMA NAME COMMA NAME CLOSE_PAREN COLON NEWLINE DEDENT', ' NEWLINE INDENT DEF NAME OPEN_PAREN NAME COMMA NAME CLOSE_PAREN COLON NEWLINE DEDENT', ' NEWLINE INDENT DEF NAME OPEN_PAREN NAME COMMA NAME COMMA NAME CLOSE_PAREN COLON NEWLINE DEDENT', ' NEWLINE INDENT DEF NAME OPEN_PAREN NAME COMMA NAME CLOSE_PAREN COLON NEWLINE DEDENT', ' NEWLINE INDENT DEF NAME OPEN_PAREN NAME COMMA NAME COMMA NAME CLOSE_PAREN COLON NEWLINE DEDENT', ' NEWLINE INDENT DEF NAME OPEN_PAREN NAME CLOSE_PAREN COLON NEWLINE DEDENT', ' NEWLINE INDENT DEF NAME OPEN_PAREN NAME CLOSE_PAREN COLON NEWLINE DEDENT', ' NEWLINE INDENT DEF NAME OPEN_PAREN NAME COMMA NAME COMMA NAME CLOSE_PAREN COLON NEWLINE DEDENT', ' NEWLINE INDENT DEF NAME OPEN_PAREN NAME CLOSE_PAREN COLON NEWLINE DEDENT', ' NEWLINE INDENT DEF NAME OPEN_PAREN NAME CLOSE_PAREN COLON NEWLINE DEDENT', ' NEWLINE INDENT DEF NAME OPEN_PAREN NAME COMMA NAME COMMA NAME CLOSE_PAREN COLON NEWLINE DEDENT', ' NEWLINE INDENT DEF NAME OPEN_PAREN NAME COMMA NAME COMMA NAME COMMA NAME COMMA NAME CLOSE_PAREN COLON NEWLINE DEDENT', ' CLASS NAME COLON', ' FROM NAME IMPORT STAR', ' IMPORT NAME', ' IMPORT NAME AS NAME', ' IMPORT NAME DOT NAME AS NAME', ' IMPORT NAME', ' IMPORT NAME']\n"
     ]
    }
   ],
   "source": [
    "file = []\n",
    "for source in data['source']:\n",
    "    f = open('temp.txt','w')\n",
    "    f.write(source)\n",
    "    f.close()\n",
    "    \n",
    "    inputstream = FileStream('temp.txt')\n",
    "    lexer = Python3Lexer(inputstream)\n",
    "    tokens = lexer.getAllTokens()\n",
    "    \n",
    "    sentence = ''\n",
    "    for token in tokens:\n",
    "        sentence = sentence + ' ' +lexer.symbolicNames[token.type]\n",
    "    file.append(sentence)\n",
    "print(file)"
   ]
  },
  {
   "cell_type": "code",
   "execution_count": 72,
   "id": "de6a3162",
   "metadata": {
    "scrolled": true
   },
   "outputs": [
    {
     "name": "stdout",
     "output_type": "stream",
     "text": [
      "                                                source  jumlah_var  skor\n",
      "0                  NEWLINE INDENT BREAK NEWLINE DEDENT           0   0.0\n",
      "1                   NEWLINE INDENT PASS NEWLINE DEDENT           0   0.0\n",
      "2                  NEWLINE INDENT BREAK NEWLINE DEDENT           0   0.0\n",
      "3             NEWLINE INDENT ELSE COLON NEWLINE DEDENT           0   0.0\n",
      "4     NEWLINE INDENT NAME COMMA NAME ASSIGN NAME DO...           6   0.6\n",
      "..                                                 ...         ...   ...\n",
      "287                                        IMPORT NAME           1   0.1\n",
      "288                                IMPORT NAME AS NAME           1   0.1\n",
      "289                       IMPORT NAME DOT NAME AS NAME           1   0.1\n",
      "290                                        IMPORT NAME           1   0.1\n",
      "291                                        IMPORT NAME           1   0.1\n",
      "\n",
      "[292 rows x 3 columns]\n"
     ]
    }
   ],
   "source": [
    "dataout = pd.DataFrame({'source':file,'jumlah_var':data['jumlah_var'],'skor':data['skor']}, columns=['source','jumlah_var','skor'])\n",
    "print(dataout)\n",
    "dataout.to_csv('tokenstreamx.csv')"
   ]
  },
  {
   "cell_type": "code",
   "execution_count": 75,
   "id": "5ef61a0a",
   "metadata": {},
   "outputs": [
    {
     "name": "stdout",
     "output_type": "stream",
     "text": [
      "   Unnamed: 0                                             source  jumlah_var  \\\n",
      "0           0                NEWLINE INDENT BREAK NEWLINE DEDENT           0   \n",
      "1           1                 NEWLINE INDENT PASS NEWLINE DEDENT           0   \n",
      "2           2                NEWLINE INDENT BREAK NEWLINE DEDENT           0   \n",
      "3           3           NEWLINE INDENT ELSE COLON NEWLINE DEDENT           0   \n",
      "4           4   NEWLINE INDENT NAME COMMA NAME ASSIGN NAME DO...           6   \n",
      "\n",
      "   jumlah_token  skor  \n",
      "0             5   2.5  \n",
      "1             5   2.5  \n",
      "2             5   2.5  \n",
      "3             6   3.0  \n",
      "4            22   5.5  \n"
     ]
    }
   ],
   "source": [
    "count_vect = CountVectorizer()\n",
    "data = pd.read_csv('tokenstreamx.csv')\n",
    "print(data.head())\n",
    "y = data[['jumlah_var', 'jumlah_token']]"
   ]
  },
  {
   "cell_type": "code",
   "execution_count": 8,
   "id": "c13a7f9a",
   "metadata": {},
   "outputs": [
    {
     "name": "stdout",
     "output_type": "stream",
     "text": [
      "[[0.         0.         0.         ... 0.         0.         0.        ]\n",
      " [0.         0.         0.         ... 0.         0.         0.        ]\n",
      " [0.         0.         0.         ... 0.         0.         0.        ]\n",
      " ...\n",
      " [0.         0.         0.68584257 ... 0.         0.         0.        ]\n",
      " [0.         0.         0.         ... 0.         0.         0.        ]\n",
      " [0.         0.         0.         ... 0.         0.         0.        ]]\n",
      "['add' 'add_assign' 'as' 'assign' 'break' 'class' 'close_brace'\n",
      " 'close_brack' 'close_paren' 'colon' 'comma' 'dedent' 'def' 'div' 'dot'\n",
      " 'else' 'equals' 'false' 'for' 'from' 'greater_than' 'gt_eq' 'if' 'import'\n",
      " 'in' 'indent' 'less_than' 'lt_eq' 'minus' 'name' 'newline' 'none' 'not'\n",
      " 'not_eq_2' 'number' 'open_brace' 'open_brack' 'open_paren' 'pass' 'power'\n",
      " 'return' 'star' 'string' 'true' 'while']\n"
     ]
    }
   ],
   "source": [
    "teks = data['source'].values.astype('U')\n",
    "tfidf_vectorizer = TfidfVectorizer()\n",
    "tfidf_matrix = tfidf_vectorizer.fit_transform(teks)\n",
    "fitur_tfidf = tfidf_vectorizer.get_feature_names_out()\n",
    "print(tfidf_matrix.toarray())  # Matriks TF-IDF\n",
    "print(fitur_tfidf)"
   ]
  },
  {
   "cell_type": "code",
   "execution_count": null,
   "id": "e1dd61f7",
   "metadata": {},
   "outputs": [],
   "source": [
    "//regresi"
   ]
  },
  {
   "cell_type": "code",
   "execution_count": 9,
   "id": "4578d27f",
   "metadata": {},
   "outputs": [
    {
     "name": "stdout",
     "output_type": "stream",
     "text": [
      "Akurasi model SVM: 0.9661016949152542\n",
      "              precision    recall  f1-score   support\n",
      "\n",
      "     control       1.00      0.91      0.95        23\n",
      "  expression       0.95      1.00      0.97        36\n",
      "\n",
      "    accuracy                           0.97        59\n",
      "   macro avg       0.97      0.96      0.96        59\n",
      "weighted avg       0.97      0.97      0.97        59\n",
      "\n"
     ]
    }
   ],
   "source": [
    "X_train, X_test, y_train, y_test = train_test_split(tfidf_matrix, y, test_size=0.2, random_state=42)\n",
    "model = SVC(kernel='linear')\n",
    "\n",
    "model.fit(X_train, y_train)\n",
    "\n",
    "predictions = model.predict(X_test)\n",
    "\n",
    "accuracy = accuracy_score(y_test, predictions)\n",
    "print(\"Akurasi model SVM:\", accuracy)\n",
    "\n",
    "print(classification_report(y_test, predictions))"
   ]
  },
  {
   "cell_type": "code",
   "execution_count": 15,
   "id": "6977a4be",
   "metadata": {},
   "outputs": [
    {
     "name": "stdout",
     "output_type": "stream",
     "text": [
      "0.9349315068493151\n",
      "0.008362352848052979\n"
     ]
    }
   ],
   "source": [
    "model = svm.SVC(kernel='linear')\n",
    "kfold = KFold(n_splits=4, random_state=0, shuffle=True)\n",
    "\n",
    "acc = []\n",
    "tim = []\n",
    "for train_ndx, test_ndx in kfold.split(tfidf_matrix):\n",
    "  start = time.time()\n",
    "  train_X, train_y, test_X, test_y = tfidf_matrix[train_ndx], y[train_ndx], tfidf_matrix[test_ndx], y[test_ndx]\n",
    "  model.fit(train_X, train_y)\n",
    "  acc.append(model.score(test_X, test_y))\n",
    "  end = time.time()\n",
    "  tim.append(end - start)\n",
    "\n",
    "print(sum(acc)/len(acc))\n",
    "print(sum(tim)/len(tim))"
   ]
  },
  {
   "cell_type": "code",
   "execution_count": 16,
   "id": "1169b67f",
   "metadata": {},
   "outputs": [
    {
     "name": "stdout",
     "output_type": "stream",
     "text": [
      "0.928082191780822\n",
      "0.0039997100830078125\n"
     ]
    }
   ],
   "source": [
    "model = MultinomialNB()\n",
    "kfold = KFold(n_splits=4, random_state=0, shuffle=True)\n",
    "\n",
    "acc = []\n",
    "tim = []\n",
    "for train_ndx, test_ndx in kfold.split(tfidf_matrix):\n",
    "  start = time.time()\n",
    "  train_X, train_y, test_X, test_y = tfidf_matrix[train_ndx], y[train_ndx], tfidf_matrix[test_ndx], y[test_ndx]\n",
    "  model.fit(train_X, train_y)\n",
    "  acc.append(model.score(test_X, test_y))\n",
    "  end = time.time()\n",
    "  tim.append(end - start)\n",
    "\n",
    "print(sum(acc)/len(acc))\n",
    "print(sum(tim)/len(tim))"
   ]
  },
  {
   "cell_type": "code",
   "execution_count": 17,
   "id": "b80233a7",
   "metadata": {},
   "outputs": [
    {
     "data": {
      "text/plain": [
       "array(['control', 'control', 'control', 'control', 'expression',\n",
       "       'control', 'expression', 'control', 'expression', 'control',\n",
       "       'control', 'control', 'control', 'control', 'control', 'control',\n",
       "       'expression', 'expression', 'expression', 'expression',\n",
       "       'expression', 'expression', 'expression', 'expression',\n",
       "       'expression', 'expression', 'expression', 'expression',\n",
       "       'expression', 'expression', 'expression', 'expression',\n",
       "       'expression', 'expression', 'expression', 'expression',\n",
       "       'expression', 'expression', 'expression', 'expression', 'control',\n",
       "       'control', 'control', 'control', 'control', 'control',\n",
       "       'expression', 'expression', 'expression', 'expression',\n",
       "       'expression', 'expression', 'expression', 'expression',\n",
       "       'expression', 'expression', 'expression', 'expression',\n",
       "       'expression', 'expression', 'expression', 'expression',\n",
       "       'expression', 'expression', 'control', 'control', 'control',\n",
       "       'control', 'control', 'control', 'control', 'control', 'control',\n",
       "       'control', 'expression', 'expression', 'expression', 'expression',\n",
       "       'expression', 'expression', 'expression', 'expression',\n",
       "       'expression', 'control', 'control', 'control', 'control',\n",
       "       'expression', 'expression', 'expression', 'expression',\n",
       "       'expression', 'expression', 'expression', 'expression',\n",
       "       'expression', 'expression', 'expression', 'expression',\n",
       "       'expression', 'expression', 'expression', 'expression',\n",
       "       'expression', 'expression', 'expression', 'expression',\n",
       "       'expression', 'expression', 'expression', 'expression',\n",
       "       'expression', 'expression', 'expression', 'expression',\n",
       "       'expression', 'expression', 'expression', 'expression',\n",
       "       'expression', 'expression', 'expression', 'expression',\n",
       "       'expression', 'expression', 'expression', 'control', 'control',\n",
       "       'control', 'expression', 'expression', 'expression', 'control',\n",
       "       'control', 'control', 'control', 'control', 'expression',\n",
       "       'expression', 'expression', 'expression', 'expression',\n",
       "       'expression', 'expression', 'expression', 'expression',\n",
       "       'expression', 'expression', 'expression', 'expression',\n",
       "       'expression', 'control', 'control', 'control', 'control',\n",
       "       'control', 'control', 'control', 'control', 'control', 'control',\n",
       "       'control', 'control', 'control', 'control', 'control',\n",
       "       'expression', 'expression', 'expression', 'expression',\n",
       "       'expression', 'expression', 'expression', 'expression',\n",
       "       'expression', 'expression', 'expression', 'expression',\n",
       "       'expression', 'control', 'control', 'control', 'control',\n",
       "       'control', 'expression', 'expression', 'control', 'control',\n",
       "       'expression', 'control', 'control', 'control', 'control',\n",
       "       'control', 'control', 'expression', 'control', 'expression',\n",
       "       'expression', 'expression', 'expression', 'expression',\n",
       "       'expression', 'expression', 'expression', 'expression',\n",
       "       'expression', 'expression', 'expression', 'expression',\n",
       "       'expression', 'expression', 'expression', 'expression',\n",
       "       'expression', 'expression', 'expression', 'expression',\n",
       "       'expression', 'expression', 'expression', 'expression',\n",
       "       'expression', 'expression', 'expression', 'expression',\n",
       "       'expression', 'expression', 'expression', 'expression',\n",
       "       'expression', 'expression', 'expression', 'expression', 'control',\n",
       "       'control', 'control', 'control', 'control', 'expression',\n",
       "       'expression', 'expression', 'expression', 'expression',\n",
       "       'expression', 'expression', 'expression', 'expression',\n",
       "       'expression', 'expression', 'expression', 'expression',\n",
       "       'expression', 'expression', 'expression', 'expression',\n",
       "       'expression', 'expression', 'expression', 'expression',\n",
       "       'expression', 'expression', 'control', 'control', 'control',\n",
       "       'control', 'control', 'control', 'control', 'control', 'control',\n",
       "       'control', 'expression', 'control', 'control', 'control',\n",
       "       'control', 'control', 'control', 'control', 'control', 'control',\n",
       "       'control', 'control', 'control', 'control', 'control', 'control',\n",
       "       'control', 'control', 'control', 'control'], dtype='<U10')"
      ]
     },
     "execution_count": 17,
     "metadata": {},
     "output_type": "execute_result"
    }
   ],
   "source": [
    " model.predict(tfidf_matrix)"
   ]
  },
  {
   "cell_type": "code",
   "execution_count": 22,
   "id": "5af4788c",
   "metadata": {},
   "outputs": [
    {
     "data": {
      "text/html": [
       "<div>\n",
       "<style scoped>\n",
       "    .dataframe tbody tr th:only-of-type {\n",
       "        vertical-align: middle;\n",
       "    }\n",
       "\n",
       "    .dataframe tbody tr th {\n",
       "        vertical-align: top;\n",
       "    }\n",
       "\n",
       "    .dataframe thead th {\n",
       "        text-align: right;\n",
       "    }\n",
       "</style>\n",
       "<table border=\"1\" class=\"dataframe\">\n",
       "  <thead>\n",
       "    <tr style=\"text-align: right;\">\n",
       "      <th></th>\n",
       "      <th>jumlah_var</th>\n",
       "    </tr>\n",
       "  </thead>\n",
       "  <tbody>\n",
       "    <tr>\n",
       "      <th>count</th>\n",
       "      <td>292.000000</td>\n",
       "    </tr>\n",
       "    <tr>\n",
       "      <th>mean</th>\n",
       "      <td>2.595890</td>\n",
       "    </tr>\n",
       "    <tr>\n",
       "      <th>std</th>\n",
       "      <td>1.676926</td>\n",
       "    </tr>\n",
       "    <tr>\n",
       "      <th>min</th>\n",
       "      <td>0.000000</td>\n",
       "    </tr>\n",
       "    <tr>\n",
       "      <th>25%</th>\n",
       "      <td>1.000000</td>\n",
       "    </tr>\n",
       "    <tr>\n",
       "      <th>50%</th>\n",
       "      <td>2.000000</td>\n",
       "    </tr>\n",
       "    <tr>\n",
       "      <th>75%</th>\n",
       "      <td>3.000000</td>\n",
       "    </tr>\n",
       "    <tr>\n",
       "      <th>max</th>\n",
       "      <td>10.000000</td>\n",
       "    </tr>\n",
       "  </tbody>\n",
       "</table>\n",
       "</div>"
      ],
      "text/plain": [
       "       jumlah_var\n",
       "count  292.000000\n",
       "mean     2.595890\n",
       "std      1.676926\n",
       "min      0.000000\n",
       "25%      1.000000\n",
       "50%      2.000000\n",
       "75%      3.000000\n",
       "max     10.000000"
      ]
     },
     "execution_count": 22,
     "metadata": {},
     "output_type": "execute_result"
    }
   ],
   "source": [
    "df = pd.read_csv('dataframe.csv')\n",
    "df.describe()"
   ]
  },
  {
   "cell_type": "code",
   "execution_count": 76,
   "id": "c32d4236",
   "metadata": {
    "scrolled": true
   },
   "outputs": [
    {
     "data": {
      "text/html": [
       "<div>\n",
       "<style scoped>\n",
       "    .dataframe tbody tr th:only-of-type {\n",
       "        vertical-align: middle;\n",
       "    }\n",
       "\n",
       "    .dataframe tbody tr th {\n",
       "        vertical-align: top;\n",
       "    }\n",
       "\n",
       "    .dataframe thead th {\n",
       "        text-align: right;\n",
       "    }\n",
       "</style>\n",
       "<table border=\"1\" class=\"dataframe\">\n",
       "  <thead>\n",
       "    <tr style=\"text-align: right;\">\n",
       "      <th></th>\n",
       "      <th>Unnamed: 0</th>\n",
       "      <th>jumlah_var</th>\n",
       "      <th>jumlah_token</th>\n",
       "      <th>skor</th>\n",
       "    </tr>\n",
       "  </thead>\n",
       "  <tbody>\n",
       "    <tr>\n",
       "      <th>count</th>\n",
       "      <td>292.000000</td>\n",
       "      <td>292.000000</td>\n",
       "      <td>292.000000</td>\n",
       "      <td>292.000000</td>\n",
       "    </tr>\n",
       "    <tr>\n",
       "      <th>mean</th>\n",
       "      <td>145.500000</td>\n",
       "      <td>2.595890</td>\n",
       "      <td>13.489726</td>\n",
       "      <td>8.013699</td>\n",
       "    </tr>\n",
       "    <tr>\n",
       "      <th>std</th>\n",
       "      <td>84.437354</td>\n",
       "      <td>1.676926</td>\n",
       "      <td>7.384615</td>\n",
       "      <td>4.394602</td>\n",
       "    </tr>\n",
       "    <tr>\n",
       "      <th>min</th>\n",
       "      <td>0.000000</td>\n",
       "      <td>0.000000</td>\n",
       "      <td>2.000000</td>\n",
       "      <td>1.500000</td>\n",
       "    </tr>\n",
       "    <tr>\n",
       "      <th>25%</th>\n",
       "      <td>72.750000</td>\n",
       "      <td>1.000000</td>\n",
       "      <td>9.000000</td>\n",
       "      <td>5.000000</td>\n",
       "    </tr>\n",
       "    <tr>\n",
       "      <th>50%</th>\n",
       "      <td>145.500000</td>\n",
       "      <td>2.000000</td>\n",
       "      <td>12.000000</td>\n",
       "      <td>7.500000</td>\n",
       "    </tr>\n",
       "    <tr>\n",
       "      <th>75%</th>\n",
       "      <td>218.250000</td>\n",
       "      <td>3.000000</td>\n",
       "      <td>16.000000</td>\n",
       "      <td>10.000000</td>\n",
       "    </tr>\n",
       "    <tr>\n",
       "      <th>max</th>\n",
       "      <td>291.000000</td>\n",
       "      <td>10.000000</td>\n",
       "      <td>54.000000</td>\n",
       "      <td>30.500000</td>\n",
       "    </tr>\n",
       "  </tbody>\n",
       "</table>\n",
       "</div>"
      ],
      "text/plain": [
       "       Unnamed: 0  jumlah_var  jumlah_token        skor\n",
       "count  292.000000  292.000000    292.000000  292.000000\n",
       "mean   145.500000    2.595890     13.489726    8.013699\n",
       "std     84.437354    1.676926      7.384615    4.394602\n",
       "min      0.000000    0.000000      2.000000    1.500000\n",
       "25%     72.750000    1.000000      9.000000    5.000000\n",
       "50%    145.500000    2.000000     12.000000    7.500000\n",
       "75%    218.250000    3.000000     16.000000   10.000000\n",
       "max    291.000000   10.000000     54.000000   30.500000"
      ]
     },
     "execution_count": 76,
     "metadata": {},
     "output_type": "execute_result"
    }
   ],
   "source": [
    "df1 = pd.read_csv('tokenstreamx.csv', delimiter=',')\n",
    "df1.describe()"
   ]
  },
  {
   "cell_type": "code",
   "execution_count": 65,
   "id": "1a2b3e42",
   "metadata": {
    "scrolled": true
   },
   "outputs": [
    {
     "name": "stdout",
     "output_type": "stream",
     "text": [
      "  (0, 11)\t0.1673652353116199\n",
      "  (0, 4)\t0.9121037594783373\n",
      "  (0, 25)\t0.1673652353116199\n",
      "  (0, 30)\t0.3347304706232398\n",
      "  (1, 38)\t0.9121037594783373\n",
      "  (1, 11)\t0.1673652353116199\n",
      "  (1, 25)\t0.1673652353116199\n",
      "  (1, 30)\t0.3347304706232398\n",
      "  (2, 11)\t0.1673652353116199\n",
      "  (2, 4)\t0.9121037594783373\n",
      "  (2, 25)\t0.1673652353116199\n",
      "  (2, 30)\t0.3347304706232398\n",
      "  (3, 9)\t0.40568454471586424\n",
      "  (3, 15)\t0.7886442265909434\n",
      "  (3, 11)\t0.188617926880177\n",
      "  (3, 25)\t0.188617926880177\n",
      "  (3, 30)\t0.377235853760354\n",
      "  (4, 8)\t0.09886072037380497\n",
      "  (4, 37)\t0.09886072037380497\n",
      "  (4, 14)\t0.10312366112288801\n",
      "  (4, 3)\t0.09886072037380497\n",
      "  (4, 10)\t0.7452312041853243\n",
      "  (4, 29)\t0.6152160469688425\n",
      "  (4, 11)\t0.06606165337351086\n",
      "  (4, 25)\t0.06606165337351086\n",
      "  :\t:\n",
      "  (284, 29)\t0.5124386874945374\n",
      "  (284, 9)\t0.17752537916082534\n",
      "  (284, 11)\t0.08253819235185383\n",
      "  (284, 25)\t0.08253819235185383\n",
      "  (284, 30)\t0.16507638470370767\n",
      "  (285, 5)\t0.9258032439222718\n",
      "  (285, 29)\t0.1638777268425713\n",
      "  (285, 9)\t0.34063535369645676\n",
      "  (286, 23)\t0.5370187924399442\n",
      "  (286, 19)\t0.6791227130071825\n",
      "  (286, 41)\t0.48574903133014813\n",
      "  (286, 29)\t0.12021246110919967\n",
      "  (287, 23)\t0.975849193902383\n",
      "  (287, 29)\t0.21844530381784166\n",
      "  (288, 2)\t0.7325190059728715\n",
      "  (288, 23)\t0.6213203893081012\n",
      "  (288, 29)\t0.27816699969361197\n",
      "  (289, 2)\t0.685842566077744\n",
      "  (289, 23)\t0.5817295751849373\n",
      "  (289, 14)\t0.19645103736554748\n",
      "  (289, 29)\t0.390663110402106\n",
      "  (290, 23)\t0.975849193902383\n",
      "  (290, 29)\t0.21844530381784166\n",
      "  (291, 23)\t0.975849193902383\n",
      "  (291, 29)\t0.21844530381784166\n",
      "['add' 'add_assign' 'as' 'assign' 'break' 'class' 'close_brace'\n",
      " 'close_brack' 'close_paren' 'colon' 'comma' 'dedent' 'def' 'div' 'dot'\n",
      " 'else' 'equals' 'false' 'for' 'from' 'greater_than' 'gt_eq' 'if' 'import'\n",
      " 'in' 'indent' 'less_than' 'lt_eq' 'minus' 'name' 'newline' 'none' 'not'\n",
      " 'not_eq_2' 'number' 'open_brace' 'open_brack' 'open_paren' 'pass' 'power'\n",
      " 'return' 'star' 'string' 'true' 'while']\n"
     ]
    }
   ],
   "source": [
    "teks = data['source'].values.astype('U')\n",
    "tfidf_vectorizer = TfidfVectorizer()\n",
    "tfidf_matrix = tfidf_vectorizer.fit_transform(teks)\n",
    "fitur_tfidf = tfidf_vectorizer.get_feature_names_out()\n",
    "print(tfidf_matrix)  # Matriks TF-IDF\n",
    "print(fitur_tfidf)"
   ]
  },
  {
   "cell_type": "code",
   "execution_count": 67,
   "id": "73629630",
   "metadata": {
    "scrolled": true
   },
   "outputs": [
    {
     "name": "stdout",
     "output_type": "stream",
     "text": [
      "                                                source  jumlah_var  skor\n",
      "0      (0, 11)\\t0.1673652353116199\\n  (0, 4)\\t0.912...           0   0.0\n",
      "1      (0, 38)\\t0.9121037594783373\\n  (0, 11)\\t0.16...           0   0.0\n",
      "2      (0, 11)\\t0.1673652353116199\\n  (0, 4)\\t0.912...           0   0.0\n",
      "3      (0, 9)\\t0.40568454471586424\\n  (0, 15)\\t0.78...           0   0.0\n",
      "4      (0, 8)\\t0.09886072037380497\\n  (0, 37)\\t0.09...           6   0.6\n",
      "..                                                 ...         ...   ...\n",
      "287    (0, 23)\\t0.975849193902383\\n  (0, 29)\\t0.218...           1   0.1\n",
      "288    (0, 2)\\t0.7325190059728715\\n  (0, 23)\\t0.621...           1   0.1\n",
      "289    (0, 2)\\t0.685842566077744\\n  (0, 23)\\t0.5817...           1   0.1\n",
      "290    (0, 23)\\t0.975849193902383\\n  (0, 29)\\t0.218...           1   0.1\n",
      "291    (0, 23)\\t0.975849193902383\\n  (0, 29)\\t0.218...           1   0.1\n",
      "\n",
      "[292 rows x 3 columns]\n"
     ]
    }
   ],
   "source": [
    "dataout = pd.DataFrame({'source':tfidf_matrix,'jumlah_var':data['jumlah_var'],'skor':data['skor']}, columns=['source','jumlah_var','skor'])\n",
    "print(dataout)\n",
    "dataout.to_csv('tokenstreamz.csv')"
   ]
  },
  {
   "cell_type": "code",
   "execution_count": 101,
   "id": "7946c8f4",
   "metadata": {},
   "outputs": [
    {
     "data": {
      "text/html": [
       "<div>\n",
       "<style scoped>\n",
       "    .dataframe tbody tr th:only-of-type {\n",
       "        vertical-align: middle;\n",
       "    }\n",
       "\n",
       "    .dataframe tbody tr th {\n",
       "        vertical-align: top;\n",
       "    }\n",
       "\n",
       "    .dataframe thead th {\n",
       "        text-align: right;\n",
       "    }\n",
       "</style>\n",
       "<table border=\"1\" class=\"dataframe\">\n",
       "  <thead>\n",
       "    <tr style=\"text-align: right;\">\n",
       "      <th></th>\n",
       "      <th>jumlah_var</th>\n",
       "      <th>jumlah_token</th>\n",
       "      <th>skor</th>\n",
       "    </tr>\n",
       "  </thead>\n",
       "  <tbody>\n",
       "    <tr>\n",
       "      <th>count</th>\n",
       "      <td>292.000000</td>\n",
       "      <td>292.000000</td>\n",
       "      <td>292.000000</td>\n",
       "    </tr>\n",
       "    <tr>\n",
       "      <th>mean</th>\n",
       "      <td>2.595890</td>\n",
       "      <td>13.489726</td>\n",
       "      <td>8.013699</td>\n",
       "    </tr>\n",
       "    <tr>\n",
       "      <th>std</th>\n",
       "      <td>1.676926</td>\n",
       "      <td>7.384615</td>\n",
       "      <td>4.394602</td>\n",
       "    </tr>\n",
       "    <tr>\n",
       "      <th>min</th>\n",
       "      <td>0.000000</td>\n",
       "      <td>2.000000</td>\n",
       "      <td>1.500000</td>\n",
       "    </tr>\n",
       "    <tr>\n",
       "      <th>25%</th>\n",
       "      <td>1.000000</td>\n",
       "      <td>9.000000</td>\n",
       "      <td>5.000000</td>\n",
       "    </tr>\n",
       "    <tr>\n",
       "      <th>50%</th>\n",
       "      <td>2.000000</td>\n",
       "      <td>12.000000</td>\n",
       "      <td>7.500000</td>\n",
       "    </tr>\n",
       "    <tr>\n",
       "      <th>75%</th>\n",
       "      <td>3.000000</td>\n",
       "      <td>16.000000</td>\n",
       "      <td>10.000000</td>\n",
       "    </tr>\n",
       "    <tr>\n",
       "      <th>max</th>\n",
       "      <td>10.000000</td>\n",
       "      <td>54.000000</td>\n",
       "      <td>30.500000</td>\n",
       "    </tr>\n",
       "  </tbody>\n",
       "</table>\n",
       "</div>"
      ],
      "text/plain": [
       "       jumlah_var  jumlah_token        skor\n",
       "count  292.000000    292.000000  292.000000\n",
       "mean     2.595890     13.489726    8.013699\n",
       "std      1.676926      7.384615    4.394602\n",
       "min      0.000000      2.000000    1.500000\n",
       "25%      1.000000      9.000000    5.000000\n",
       "50%      2.000000     12.000000    7.500000\n",
       "75%      3.000000     16.000000   10.000000\n",
       "max     10.000000     54.000000   30.500000"
      ]
     },
     "execution_count": 101,
     "metadata": {},
     "output_type": "execute_result"
    }
   ],
   "source": [
    "df1 = pd.read_csv('tokenstreamx.csv', delimiter=',')\n",
    "df1.describe()"
   ]
  },
  {
   "cell_type": "code",
   "execution_count": 78,
   "id": "d9dc866c",
   "metadata": {},
   "outputs": [
    {
     "name": "stdout",
     "output_type": "stream",
     "text": [
      "466\n",
      "118\n"
     ]
    }
   ],
   "source": [
    "x = df1[['jumlah_token', 'jumlah_var']]\n",
    "y = df1.skor\n",
    "X_train, X_test, y_train, y_test = ms.train_test_split(df1[['jumlah_token', 'jumlah_var']], df1['skor'], test_size =0.2)\n",
    "print(X_train.size)\n",
    "print(X_test.size)"
   ]
  },
  {
   "cell_type": "code",
   "execution_count": 91,
   "id": "d9676a76",
   "metadata": {},
   "outputs": [],
   "source": [
    "import sklearn.naive_bayes as nb\n",
    "\n",
    "model = nb.GaussianNB()"
   ]
  },
  {
   "cell_type": "code",
   "execution_count": 122,
   "id": "c1e8a090",
   "metadata": {},
   "outputs": [
    {
     "data": {
      "text/html": [
       "<style>#sk-container-id-4 {color: black;}#sk-container-id-4 pre{padding: 0;}#sk-container-id-4 div.sk-toggleable {background-color: white;}#sk-container-id-4 label.sk-toggleable__label {cursor: pointer;display: block;width: 100%;margin-bottom: 0;padding: 0.3em;box-sizing: border-box;text-align: center;}#sk-container-id-4 label.sk-toggleable__label-arrow:before {content: \"▸\";float: left;margin-right: 0.25em;color: #696969;}#sk-container-id-4 label.sk-toggleable__label-arrow:hover:before {color: black;}#sk-container-id-4 div.sk-estimator:hover label.sk-toggleable__label-arrow:before {color: black;}#sk-container-id-4 div.sk-toggleable__content {max-height: 0;max-width: 0;overflow: hidden;text-align: left;background-color: #f0f8ff;}#sk-container-id-4 div.sk-toggleable__content pre {margin: 0.2em;color: black;border-radius: 0.25em;background-color: #f0f8ff;}#sk-container-id-4 input.sk-toggleable__control:checked~div.sk-toggleable__content {max-height: 200px;max-width: 100%;overflow: auto;}#sk-container-id-4 input.sk-toggleable__control:checked~label.sk-toggleable__label-arrow:before {content: \"▾\";}#sk-container-id-4 div.sk-estimator input.sk-toggleable__control:checked~label.sk-toggleable__label {background-color: #d4ebff;}#sk-container-id-4 div.sk-label input.sk-toggleable__control:checked~label.sk-toggleable__label {background-color: #d4ebff;}#sk-container-id-4 input.sk-hidden--visually {border: 0;clip: rect(1px 1px 1px 1px);clip: rect(1px, 1px, 1px, 1px);height: 1px;margin: -1px;overflow: hidden;padding: 0;position: absolute;width: 1px;}#sk-container-id-4 div.sk-estimator {font-family: monospace;background-color: #f0f8ff;border: 1px dotted black;border-radius: 0.25em;box-sizing: border-box;margin-bottom: 0.5em;}#sk-container-id-4 div.sk-estimator:hover {background-color: #d4ebff;}#sk-container-id-4 div.sk-parallel-item::after {content: \"\";width: 100%;border-bottom: 1px solid gray;flex-grow: 1;}#sk-container-id-4 div.sk-label:hover label.sk-toggleable__label {background-color: #d4ebff;}#sk-container-id-4 div.sk-serial::before {content: \"\";position: absolute;border-left: 1px solid gray;box-sizing: border-box;top: 0;bottom: 0;left: 50%;z-index: 0;}#sk-container-id-4 div.sk-serial {display: flex;flex-direction: column;align-items: center;background-color: white;padding-right: 0.2em;padding-left: 0.2em;position: relative;}#sk-container-id-4 div.sk-item {position: relative;z-index: 1;}#sk-container-id-4 div.sk-parallel {display: flex;align-items: stretch;justify-content: center;background-color: white;position: relative;}#sk-container-id-4 div.sk-item::before, #sk-container-id-4 div.sk-parallel-item::before {content: \"\";position: absolute;border-left: 1px solid gray;box-sizing: border-box;top: 0;bottom: 0;left: 50%;z-index: -1;}#sk-container-id-4 div.sk-parallel-item {display: flex;flex-direction: column;z-index: 1;position: relative;background-color: white;}#sk-container-id-4 div.sk-parallel-item:first-child::after {align-self: flex-end;width: 50%;}#sk-container-id-4 div.sk-parallel-item:last-child::after {align-self: flex-start;width: 50%;}#sk-container-id-4 div.sk-parallel-item:only-child::after {width: 0;}#sk-container-id-4 div.sk-dashed-wrapped {border: 1px dashed gray;margin: 0 0.4em 0.5em 0.4em;box-sizing: border-box;padding-bottom: 0.4em;background-color: white;}#sk-container-id-4 div.sk-label label {font-family: monospace;font-weight: bold;display: inline-block;line-height: 1.2em;}#sk-container-id-4 div.sk-label-container {text-align: center;}#sk-container-id-4 div.sk-container {/* jupyter's `normalize.less` sets `[hidden] { display: none; }` but bootstrap.min.css set `[hidden] { display: none !important; }` so we also need the `!important` here to be able to override the default hidden behavior on the sphinx rendered scikit-learn.org. See: https://github.com/scikit-learn/scikit-learn/issues/21755 */display: inline-block !important;position: relative;}#sk-container-id-4 div.sk-text-repr-fallback {display: none;}</style><div id=\"sk-container-id-4\" class=\"sk-top-container\"><div class=\"sk-text-repr-fallback\"><pre>LinearRegression()</pre><b>In a Jupyter environment, please rerun this cell to show the HTML representation or trust the notebook. <br />On GitHub, the HTML representation is unable to render, please try loading this page with nbviewer.org.</b></div><div class=\"sk-container\" hidden><div class=\"sk-item\"><div class=\"sk-estimator sk-toggleable\"><input class=\"sk-toggleable__control sk-hidden--visually\" id=\"sk-estimator-id-4\" type=\"checkbox\" checked><label for=\"sk-estimator-id-4\" class=\"sk-toggleable__label sk-toggleable__label-arrow\">LinearRegression</label><div class=\"sk-toggleable__content\"><pre>LinearRegression()</pre></div></div></div></div></div>"
      ],
      "text/plain": [
       "LinearRegression()"
      ]
     },
     "execution_count": 122,
     "metadata": {},
     "output_type": "execute_result"
    }
   ],
   "source": [
    "import sklearn.linear_model as lm\n",
    "\n",
    "model = lm.LinearRegression()\n",
    "model.fit(X_train, y_train)"
   ]
  },
  {
   "cell_type": "code",
   "execution_count": 95,
   "id": "6a1a5b84",
   "metadata": {},
   "outputs": [
    {
     "name": "stdout",
     "output_type": "stream",
     "text": [
      "[18.]\n",
      "[6.]\n"
     ]
    },
    {
     "name": "stderr",
     "output_type": "stream",
     "text": [
      "C:\\Users\\jerem\\anaconda3\\Lib\\site-packages\\sklearn\\base.py:464: UserWarning: X does not have valid feature names, but LinearRegression was fitted with feature names\n",
      "  warnings.warn(\n",
      "C:\\Users\\jerem\\anaconda3\\Lib\\site-packages\\sklearn\\base.py:464: UserWarning: X does not have valid feature names, but LinearRegression was fitted with feature names\n",
      "  warnings.warn(\n"
     ]
    }
   ],
   "source": [
    "mydata = [[20, 16]]\n",
    "res = model.predict(mydata)\n",
    "print(res)\n",
    "\n",
    "mydata = [[2, 10]]\n",
    "res = model.predict(mydata)\n",
    "print(res)"
   ]
  },
  {
   "cell_type": "code",
   "execution_count": 96,
   "id": "5d781a29",
   "metadata": {},
   "outputs": [
    {
     "name": "stdout",
     "output_type": "stream",
     "text": [
      "0.938123267190199\n"
     ]
    }
   ],
   "source": [
    "r2 = model.score(X_test,y_test)\n",
    "print(r2)"
   ]
  },
  {
   "cell_type": "code",
   "execution_count": 145,
   "id": "e24d05ca",
   "metadata": {},
   "outputs": [
    {
     "name": "stdout",
     "output_type": "stream",
     "text": [
      "Mean Squared Error: 4.461393596986817\n",
      "R-squared (R2) Score: 86.23%\n"
     ]
    }
   ],
   "source": [
    "from sklearn.neighbors import KNeighborsRegressor\n",
    "from sklearn.datasets import make_regression\n",
    "from sklearn.model_selection import train_test_split\n",
    "from sklearn.metrics import mean_squared_error\n",
    "from sklearn.metrics import r2_score\n",
    "\n",
    "x = df1[['jumlah_token', 'jumlah_var']]\n",
    "y = df1.skor\n",
    "X_train, X_test, y_train, y_test = ms.train_test_split(df1[['jumlah_token', 'jumlah_var']], df1['skor'], test_size =0.2)\n",
    "\n",
    "# Inisialisasi dan latih model KNN untuk regresi\n",
    "knn_regressor = KNeighborsRegressor(n_neighbors=3)  # Atur jumlah tetangga yang ingin digunakan\n",
    "knn_regressor.fit(X_train, y_train)\n",
    "\n",
    "# Lakukan prediksi pada data uji\n",
    "predictions = knn_regressor.predict(X_test)\n",
    "\n",
    "mse = mean_squared_error(y_test, predictions)\n",
    "print(f\"Mean Squared Error: {mse}\")\n",
    "\n",
    "r2 = r2_score(y_test, predictions)\n",
    "percentage_accuracy = r2 * 100\n",
    "print(f\"R-squared (R2) Score: {percentage_accuracy:.2f}%\")"
   ]
  },
  {
   "cell_type": "code",
   "execution_count": 141,
   "id": "cfe66839",
   "metadata": {},
   "outputs": [
    {
     "name": "stdout",
     "output_type": "stream",
     "text": [
      "R-squared (R2) Score (Decision Tree): 98.80%\n"
     ]
    }
   ],
   "source": [
    "from sklearn.datasets import make_regression\n",
    "from sklearn.tree import DecisionTreeRegressor\n",
    "from sklearn.model_selection import train_test_split\n",
    "from sklearn.metrics import r2_score\n",
    "\n",
    "x = df1[['jumlah_token', 'jumlah_var']]\n",
    "y = df1.skor\n",
    "X_train, X_test, y_train, y_test = ms.train_test_split(df1[['jumlah_token', 'jumlah_var']], df1['skor'], test_size =0.2)\n",
    "\n",
    "\n",
    "# Inisialisasi dan latih model Decision Tree untuk regresi\n",
    "decision_tree = DecisionTreeRegressor(max_depth=5)  # Atur kedalaman maksimum pohon\n",
    "decision_tree.fit(X_train, y_train)\n",
    "\n",
    "# Lakukan prediksi pada data uji\n",
    "predictions = decision_tree.predict(X_test)\n",
    "\n",
    "# Evaluasi performa model menggunakan R-squared (R2 score)\n",
    "r2 = r2_score(y_test, predictions)\n",
    "percentage_accuracy = r2 * 100\n",
    "print(f\"R-squared (R2) Score (Decision Tree): {percentage_accuracy:.2f}%\")"
   ]
  },
  {
   "cell_type": "code",
   "execution_count": 134,
   "id": "5d5049da",
   "metadata": {},
   "outputs": [
    {
     "name": "stdout",
     "output_type": "stream",
     "text": [
      "R-squared (R2) Score (SVR): 69.75%\n"
     ]
    }
   ],
   "source": [
    "from sklearn.datasets import make_regression\n",
    "from sklearn.svm import SVR\n",
    "from sklearn.model_selection import train_test_split\n",
    "from sklearn.metrics import r2_score\n",
    "\n",
    "x = df1[['jumlah_token', 'jumlah_var']]\n",
    "y = df1.skor\n",
    "X_train, X_test, y_train, y_test = ms.train_test_split(df1[['jumlah_token', 'jumlah_var']], df1['skor'], test_size =0.2)\n",
    "\n",
    "# Inisialisasi dan latih model SVR untuk regresi\n",
    "svr = SVR(kernel='rbf')  # RBF kernel umumnya digunakan untuk regresi\n",
    "svr.fit(X_train, y_train)\n",
    "\n",
    "# Lakukan prediksi pada data uji\n",
    "predictions = svr.predict(X_test)\n",
    "\n",
    "# Evaluasi performa model menggunakan R-squared (R2 score)\n",
    "r2 = r2_score(y_test, predictions)\n",
    "percentage_accuracy = r2 * 100\n",
    "print(f\"R-squared (R2) Score (SVR): {percentage_accuracy:.2f}%\")\n"
   ]
  },
  {
   "cell_type": "code",
   "execution_count": 129,
   "id": "2e9373ec",
   "metadata": {},
   "outputs": [
    {
     "name": "stdout",
     "output_type": "stream",
     "text": [
      "R-squared (R2) Score (Linear Regression): 99.97%\n"
     ]
    }
   ],
   "source": [
    "from sklearn.datasets import make_regression\n",
    "from sklearn.linear_model import LinearRegression\n",
    "from sklearn.model_selection import train_test_split\n",
    "from sklearn.metrics import r2_score\n",
    "\n",
    "x = df1[['jumlah_token', 'jumlah_var']]\n",
    "y = df1.skor\n",
    "X_train, X_test, y_train, y_test = ms.train_test_split(df1[['jumlah_token', 'jumlah_var']], df1['skor'], test_size =0.2)\n",
    "\n",
    "# Inisialisasi dan latih model Linear Regression\n",
    "linear_regression = LinearRegression()\n",
    "linear_regression.fit(X_train, y_train)\n",
    "\n",
    "# Lakukan prediksi pada data uji\n",
    "predictions = linear_regression.predict(X_test)\n",
    "\n",
    "# Evaluasi performa model menggunakan R-squared (R2 score)\n",
    "r2 = r2_score(y_test, predictions)\n",
    "percentage_accuracy = r2 * 100\n",
    "print(f\"R-squared (R2) Score (Linear Regression): {percentage_accuracy:.2f}%\")\n"
   ]
  },
  {
   "cell_type": "code",
   "execution_count": 123,
   "id": "daf32a61",
   "metadata": {},
   "outputs": [
    {
     "name": "stdout",
     "output_type": "stream",
     "text": [
      "[17.05139535]\n",
      "[33.40025336]\n"
     ]
    },
    {
     "name": "stderr",
     "output_type": "stream",
     "text": [
      "C:\\Users\\jerem\\anaconda3\\Lib\\site-packages\\sklearn\\base.py:464: UserWarning: X does not have valid feature names, but LinearRegression was fitted with feature names\n",
      "  warnings.warn(\n",
      "C:\\Users\\jerem\\anaconda3\\Lib\\site-packages\\sklearn\\base.py:464: UserWarning: X does not have valid feature names, but LinearRegression was fitted with feature names\n",
      "  warnings.warn(\n"
     ]
    }
   ],
   "source": [
    "mydata = [[20, 16]]\n",
    "res = model.predict(mydata)\n",
    "print(res)\n",
    "\n",
    "mydata = [[48, 21]]\n",
    "res = model.predict(mydata)\n",
    "print(res)"
   ]
  },
  {
   "cell_type": "code",
   "execution_count": null,
   "id": "ef907aeb",
   "metadata": {},
   "outputs": [],
   "source": []
  }
 ],
 "metadata": {
  "kernelspec": {
   "display_name": "Python 3 (ipykernel)",
   "language": "python",
   "name": "python3"
  },
  "language_info": {
   "codemirror_mode": {
    "name": "ipython",
    "version": 3
   },
   "file_extension": ".py",
   "mimetype": "text/x-python",
   "name": "python",
   "nbconvert_exporter": "python",
   "pygments_lexer": "ipython3",
   "version": "3.11.5"
  }
 },
 "nbformat": 4,
 "nbformat_minor": 5
}
